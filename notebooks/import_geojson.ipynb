{
 "cells": [
  {
   "metadata": {},
   "cell_type": "markdown",
   "source": "# Imports and Pre-requisites",
   "id": "f549d6ca1f4ca7b0"
  },
  {
   "metadata": {
    "ExecuteTime": {
     "end_time": "2025-09-25T20:25:39.334438Z",
     "start_time": "2025-09-25T20:25:38.564945Z"
    }
   },
   "cell_type": "code",
   "source": [
    "import json\n",
    "\n",
    "import ee\n",
    "import geemap\n",
    "from geemap import geojson_to_ee, ee_to_geojson"
   ],
   "id": "initial_id",
   "outputs": [],
   "execution_count": 1
  },
  {
   "metadata": {
    "ExecuteTime": {
     "end_time": "2025-09-25T20:25:42.608932Z",
     "start_time": "2025-09-25T20:25:41.008993Z"
    }
   },
   "cell_type": "code",
   "source": "ee.Authenticate()",
   "id": "c00b6e108e21415b",
   "outputs": [
    {
     "data": {
      "text/plain": [
       "<IPython.core.display.HTML object>"
      ],
      "text/html": [
       "\n",
       "            <style>\n",
       "                .geemap-dark {\n",
       "                    --jp-widgets-color: white;\n",
       "                    --jp-widgets-label-color: white;\n",
       "                    --jp-ui-font-color1: white;\n",
       "                    --jp-layout-color2: #454545;\n",
       "                    background-color: #383838;\n",
       "                }\n",
       "\n",
       "                .geemap-dark .jupyter-button {\n",
       "                    --jp-layout-color3: #383838;\n",
       "                }\n",
       "\n",
       "                .geemap-colab {\n",
       "                    background-color: var(--colab-primary-surface-color, white);\n",
       "                }\n",
       "\n",
       "                .geemap-colab .jupyter-button {\n",
       "                    --jp-layout-color3: var(--colab-primary-surface-color, white);\n",
       "                }\n",
       "            </style>\n",
       "            "
      ]
     },
     "metadata": {},
     "output_type": "display_data"
    },
    {
     "data": {
      "text/plain": [
       "True"
      ]
     },
     "execution_count": 2,
     "metadata": {},
     "output_type": "execute_result"
    }
   ],
   "execution_count": 2
  },
  {
   "metadata": {
    "ExecuteTime": {
     "end_time": "2025-09-25T20:25:48.036294Z",
     "start_time": "2025-09-25T20:25:44.232421Z"
    }
   },
   "cell_type": "code",
   "source": "ee.Initialize(project=\"rwanda-climate-alerts\")",
   "id": "c07c2f302bf45a50",
   "outputs": [
    {
     "data": {
      "text/plain": [
       "<IPython.core.display.HTML object>"
      ],
      "text/html": [
       "\n",
       "            <style>\n",
       "                .geemap-dark {\n",
       "                    --jp-widgets-color: white;\n",
       "                    --jp-widgets-label-color: white;\n",
       "                    --jp-ui-font-color1: white;\n",
       "                    --jp-layout-color2: #454545;\n",
       "                    background-color: #383838;\n",
       "                }\n",
       "\n",
       "                .geemap-dark .jupyter-button {\n",
       "                    --jp-layout-color3: #383838;\n",
       "                }\n",
       "\n",
       "                .geemap-colab {\n",
       "                    background-color: var(--colab-primary-surface-color, white);\n",
       "                }\n",
       "\n",
       "                .geemap-colab .jupyter-button {\n",
       "                    --jp-layout-color3: var(--colab-primary-surface-color, white);\n",
       "                }\n",
       "            </style>\n",
       "            "
      ]
     },
     "metadata": {},
     "output_type": "display_data"
    },
    {
     "name": "stderr",
     "output_type": "stream",
     "text": [
      "*** Earth Engine *** Share your feedback by taking our Annual Developer Satisfaction Survey: https://google.qualtrics.com/jfe/form/SV_7TDKVSyKvBdmMqW?ref=4i2o6\n"
     ]
    }
   ],
   "execution_count": 3
  },
  {
   "metadata": {},
   "cell_type": "markdown",
   "source": "# Pretty print a JSON file",
   "id": "ce6f9877862e45c0"
  },
  {
   "metadata": {
    "ExecuteTime": {
     "end_time": "2025-09-24T13:46:56.693182Z",
     "start_time": "2025-09-24T13:46:55.867403Z"
    }
   },
   "cell_type": "code",
   "source": [
    "sector_boundaries_path = \"../data/boundaries/Sector_Boundaries.geojson\"\n",
    "district_boundaries_path = \"../data/boundaries/District_Boundaries.geojson\"\n",
    "\n",
    "def pretty_print_json(file_path):\n",
    "    with open(file_path, \"r\") as infile:\n",
    "        data = json.load(infile)\n",
    "\n",
    "    with open(file_path, \"w\") as outfile:\n",
    "        json.dump(data, outfile, indent=None)\n",
    "\n",
    "# pretty_print_json(sector_boundaries_path)\n",
    "# pretty_print_json(district_boundaries_path)"
   ],
   "id": "4a1516aeee21d3bd",
   "outputs": [
    {
     "data": {
      "text/plain": [
       "<IPython.core.display.HTML object>"
      ],
      "text/html": [
       "\n",
       "            <style>\n",
       "                .geemap-dark {\n",
       "                    --jp-widgets-color: white;\n",
       "                    --jp-widgets-label-color: white;\n",
       "                    --jp-ui-font-color1: white;\n",
       "                    --jp-layout-color2: #454545;\n",
       "                    background-color: #383838;\n",
       "                }\n",
       "\n",
       "                .geemap-dark .jupyter-button {\n",
       "                    --jp-layout-color3: #383838;\n",
       "                }\n",
       "\n",
       "                .geemap-colab {\n",
       "                    background-color: var(--colab-primary-surface-color, white);\n",
       "                }\n",
       "\n",
       "                .geemap-colab .jupyter-button {\n",
       "                    --jp-layout-color3: var(--colab-primary-surface-color, white);\n",
       "                }\n",
       "            </style>\n",
       "            "
      ]
     },
     "metadata": {},
     "output_type": "display_data"
    }
   ],
   "execution_count": 7
  },
  {
   "metadata": {},
   "cell_type": "markdown",
   "source": "# Import GeoJSONs",
   "id": "62731b95961fa9fa"
  },
  {
   "metadata": {
    "ExecuteTime": {
     "end_time": "2025-09-25T20:26:02.303263Z",
     "start_time": "2025-09-25T20:26:02.276395Z"
    }
   },
   "cell_type": "code",
   "source": "m = geemap.Map()",
   "id": "9542f5b0223f773f",
   "outputs": [
    {
     "data": {
      "text/plain": [
       "<IPython.core.display.HTML object>"
      ],
      "text/html": [
       "\n",
       "            <style>\n",
       "                .geemap-dark {\n",
       "                    --jp-widgets-color: white;\n",
       "                    --jp-widgets-label-color: white;\n",
       "                    --jp-ui-font-color1: white;\n",
       "                    --jp-layout-color2: #454545;\n",
       "                    background-color: #383838;\n",
       "                }\n",
       "\n",
       "                .geemap-dark .jupyter-button {\n",
       "                    --jp-layout-color3: #383838;\n",
       "                }\n",
       "\n",
       "                .geemap-colab {\n",
       "                    background-color: var(--colab-primary-surface-color, white);\n",
       "                }\n",
       "\n",
       "                .geemap-colab .jupyter-button {\n",
       "                    --jp-layout-color3: var(--colab-primary-surface-color, white);\n",
       "                }\n",
       "            </style>\n",
       "            "
      ]
     },
     "metadata": {},
     "output_type": "display_data"
    }
   ],
   "execution_count": 4
  },
  {
   "metadata": {
    "ExecuteTime": {
     "end_time": "2025-09-25T20:26:46.092694Z",
     "start_time": "2025-09-25T20:26:45.656657Z"
    }
   },
   "cell_type": "code",
   "source": [
    "sector_boundaries_path = \"../data/boundaries/Sector_Boundaries.geojson\"\n",
    "district_boundaries_path = \"../data/boundaries/District_Boundaries.geojson\"\n",
    "\n",
    "with open(sector_boundaries_path, \"r\") as f:\n",
    "    sector_boundaries = json.load(f)\n",
    "\n",
    "with open(district_boundaries_path, \"r\") as f:\n",
    "    district_boundaries = json.load(f)\n",
    "\n",
    "print(type(sector_boundaries))"
   ],
   "id": "2d1172eb5f67f73e",
   "outputs": [
    {
     "data": {
      "text/plain": [
       "<IPython.core.display.HTML object>"
      ],
      "text/html": [
       "\n",
       "            <style>\n",
       "                .geemap-dark {\n",
       "                    --jp-widgets-color: white;\n",
       "                    --jp-widgets-label-color: white;\n",
       "                    --jp-ui-font-color1: white;\n",
       "                    --jp-layout-color2: #454545;\n",
       "                    background-color: #383838;\n",
       "                }\n",
       "\n",
       "                .geemap-dark .jupyter-button {\n",
       "                    --jp-layout-color3: #383838;\n",
       "                }\n",
       "\n",
       "                .geemap-colab {\n",
       "                    background-color: var(--colab-primary-surface-color, white);\n",
       "                }\n",
       "\n",
       "                .geemap-colab .jupyter-button {\n",
       "                    --jp-layout-color3: var(--colab-primary-surface-color, white);\n",
       "                }\n",
       "            </style>\n",
       "            "
      ]
     },
     "metadata": {},
     "output_type": "display_data"
    },
    {
     "name": "stdout",
     "output_type": "stream",
     "text": [
      "<class 'dict'>\n"
     ]
    }
   ],
   "execution_count": 6
  },
  {
   "metadata": {
    "ExecuteTime": {
     "end_time": "2025-09-25T20:30:00.538339Z",
     "start_time": "2025-09-25T20:30:00.534300Z"
    }
   },
   "cell_type": "code",
   "source": [
    "sector_boundaries_ee = ee.FeatureCollection(sector_boundaries_path)\n",
    "district_boundaries_ee = ee.FeatureCollection(district_boundaries_path)\n",
    "\n",
    "# Note:\n",
    "# ee.FeatureCollection() works with file paths"
   ],
   "id": "a02023a012ad302a",
   "outputs": [
    {
     "data": {
      "text/plain": [
       "<IPython.core.display.HTML object>"
      ],
      "text/html": [
       "\n",
       "            <style>\n",
       "                .geemap-dark {\n",
       "                    --jp-widgets-color: white;\n",
       "                    --jp-widgets-label-color: white;\n",
       "                    --jp-ui-font-color1: white;\n",
       "                    --jp-layout-color2: #454545;\n",
       "                    background-color: #383838;\n",
       "                }\n",
       "\n",
       "                .geemap-dark .jupyter-button {\n",
       "                    --jp-layout-color3: #383838;\n",
       "                }\n",
       "\n",
       "                .geemap-colab {\n",
       "                    background-color: var(--colab-primary-surface-color, white);\n",
       "                }\n",
       "\n",
       "                .geemap-colab .jupyter-button {\n",
       "                    --jp-layout-color3: var(--colab-primary-surface-color, white);\n",
       "                }\n",
       "            </style>\n",
       "            "
      ]
     },
     "metadata": {},
     "output_type": "display_data"
    }
   ],
   "execution_count": 8
  },
  {
   "metadata": {
    "ExecuteTime": {
     "end_time": "2025-09-25T20:33:21.436374Z",
     "start_time": "2025-09-25T20:33:21.431192Z"
    }
   },
   "cell_type": "code",
   "source": "print(type(sector_boundaries_ee))",
   "id": "d53f1c9692a15bab",
   "outputs": [
    {
     "data": {
      "text/plain": [
       "<IPython.core.display.HTML object>"
      ],
      "text/html": [
       "\n",
       "            <style>\n",
       "                .geemap-dark {\n",
       "                    --jp-widgets-color: white;\n",
       "                    --jp-widgets-label-color: white;\n",
       "                    --jp-ui-font-color1: white;\n",
       "                    --jp-layout-color2: #454545;\n",
       "                    background-color: #383838;\n",
       "                }\n",
       "\n",
       "                .geemap-dark .jupyter-button {\n",
       "                    --jp-layout-color3: #383838;\n",
       "                }\n",
       "\n",
       "                .geemap-colab {\n",
       "                    background-color: var(--colab-primary-surface-color, white);\n",
       "                }\n",
       "\n",
       "                .geemap-colab .jupyter-button {\n",
       "                    --jp-layout-color3: var(--colab-primary-surface-color, white);\n",
       "                }\n",
       "            </style>\n",
       "            "
      ]
     },
     "metadata": {},
     "output_type": "display_data"
    },
    {
     "name": "stdout",
     "output_type": "stream",
     "text": [
      "<class 'ee.featurecollection.FeatureCollection'>\n"
     ]
    }
   ],
   "execution_count": 9
  },
  {
   "metadata": {},
   "cell_type": "code",
   "source": [
    "# Example: Get Bugesera District (district_id = 57)\n",
    "bugesera = rwanda.filter(ee.Filter.eq(\"district_id\", \"57\"))\n",
    "\n",
    "# Or a specific sector (sector_id = 5704)\n",
    "mareba = rwanda.filter(ee.Filter.eq(\"sector_id\", \"5704\"))\n",
    "\n",
    "# Extract the geometry\n",
    "geometry = mareba.geometry()\n",
    "\n",
    "# Print info\n",
    "print(\"Mareba sector geometry:\", geometry.getInfo())\n",
    "\n",
    "# Example: calculate its area in square kilometers\n",
    "area_km2 = geometry.area().divide(1e6).getInfo()\n",
    "print(\"Mareba sector area (km²):\", area_km2)"
   ],
   "id": "98beb20ec7e5e642",
   "outputs": [],
   "execution_count": null
  },
  {
   "metadata": {},
   "cell_type": "markdown",
   "source": "# Test GeoJson",
   "id": "540d9abfe0ea535a"
  },
  {
   "metadata": {},
   "cell_type": "code",
   "source": [
    "# Define a Geometry object.\n",
    "geometry = ee.Geometry({\n",
    "    'type': 'Polygon',\n",
    "    'coordinates': [[\n",
    "        [-122.081, 37.417],\n",
    "        [-122.086, 37.421],\n",
    "        [-122.084, 37.418],\n",
    "        [-122.089, 37.416],\n",
    "    ]],\n",
    "})\n",
    "\n",
    "# Apply the toGeoJSONString method to the Geometry object.\n",
    "geometry_to_geojson_string = geometry.toGeoJSONString()\n",
    "\n",
    "# Print the result.\n",
    "display('geometry.toGeoJSONString(...) =', geometry_to_geojson_string)\n",
    "\n",
    "# Display relevant geometries on the map.\n",
    "m = geemap.Map()\n",
    "m.set_center(-122.085, 37.422, 15)\n",
    "m.add_layer(geometry, {'color': 'black'}, 'Geometry [black]: geometry')\n",
    "m"
   ],
   "id": "f80bfb9b81d45782",
   "outputs": [],
   "execution_count": null
  },
  {
   "metadata": {},
   "cell_type": "markdown",
   "source": "# Collect Datasets",
   "id": "e418c07284d8d2cc"
  },
  {
   "metadata": {},
   "cell_type": "markdown",
   "source": "## Rainfall",
   "id": "a2b9c0cca1ed0610"
  },
  {
   "metadata": {},
   "cell_type": "code",
   "outputs": [],
   "source": "",
   "id": "3ddcb79cbd07325e",
   "execution_count": null
  }
 ],
 "metadata": {
  "kernelspec": {
   "display_name": "Python 3",
   "language": "python",
   "name": "python3"
  },
  "language_info": {
   "codemirror_mode": {
    "name": "ipython",
    "version": 2
   },
   "file_extension": ".py",
   "mimetype": "text/x-python",
   "name": "python",
   "nbconvert_exporter": "python",
   "pygments_lexer": "ipython2",
   "version": "2.7.6"
  }
 },
 "nbformat": 4,
 "nbformat_minor": 5
}
