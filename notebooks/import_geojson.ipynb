{
 "cells": [
  {
   "cell_type": "markdown",
   "id": "f549d6ca1f4ca7b0",
   "metadata": {},
   "source": [
    "# Imports and Pre-requisites"
   ]
  },
  {
   "cell_type": "code",
   "id": "initial_id",
   "metadata": {
    "ExecuteTime": {
     "end_time": "2025-09-28T17:49:06.491280Z",
     "start_time": "2025-09-28T17:49:05.638208Z"
    }
   },
   "source": [
    "import json\n",
    "import ee\n",
    "import geemap\n",
    "from dateutil.utils import today\n",
    "from geemap import geojson_to_ee, ee_to_geojson"
   ],
   "outputs": [],
   "execution_count": 1
  },
  {
   "cell_type": "code",
   "id": "c00b6e108e21415b",
   "metadata": {
    "ExecuteTime": {
     "end_time": "2025-09-28T17:49:09.122401Z",
     "start_time": "2025-09-28T17:49:06.958336Z"
    }
   },
   "source": [
    "ee.Authenticate()"
   ],
   "outputs": [
    {
     "data": {
      "text/plain": [
       "<IPython.core.display.HTML object>"
      ],
      "text/html": [
       "\n",
       "            <style>\n",
       "                .geemap-dark {\n",
       "                    --jp-widgets-color: white;\n",
       "                    --jp-widgets-label-color: white;\n",
       "                    --jp-ui-font-color1: white;\n",
       "                    --jp-layout-color2: #454545;\n",
       "                    background-color: #383838;\n",
       "                }\n",
       "\n",
       "                .geemap-dark .jupyter-button {\n",
       "                    --jp-layout-color3: #383838;\n",
       "                }\n",
       "\n",
       "                .geemap-colab {\n",
       "                    background-color: var(--colab-primary-surface-color, white);\n",
       "                }\n",
       "\n",
       "                .geemap-colab .jupyter-button {\n",
       "                    --jp-layout-color3: var(--colab-primary-surface-color, white);\n",
       "                }\n",
       "            </style>\n",
       "            "
      ]
     },
     "metadata": {},
     "output_type": "display_data",
     "jetTransient": {
      "display_id": null
     }
    },
    {
     "data": {
      "text/plain": [
       "True"
      ]
     },
     "execution_count": 2,
     "metadata": {},
     "output_type": "execute_result"
    }
   ],
   "execution_count": 2
  },
  {
   "cell_type": "code",
   "id": "c07c2f302bf45a50",
   "metadata": {
    "ExecuteTime": {
     "end_time": "2025-09-28T17:49:15.036258Z",
     "start_time": "2025-09-28T17:49:09.894456Z"
    }
   },
   "source": [
    "ee.Initialize(project=\"rwanda-climate-alerts\")"
   ],
   "outputs": [
    {
     "data": {
      "text/plain": [
       "<IPython.core.display.HTML object>"
      ],
      "text/html": [
       "\n",
       "            <style>\n",
       "                .geemap-dark {\n",
       "                    --jp-widgets-color: white;\n",
       "                    --jp-widgets-label-color: white;\n",
       "                    --jp-ui-font-color1: white;\n",
       "                    --jp-layout-color2: #454545;\n",
       "                    background-color: #383838;\n",
       "                }\n",
       "\n",
       "                .geemap-dark .jupyter-button {\n",
       "                    --jp-layout-color3: #383838;\n",
       "                }\n",
       "\n",
       "                .geemap-colab {\n",
       "                    background-color: var(--colab-primary-surface-color, white);\n",
       "                }\n",
       "\n",
       "                .geemap-colab .jupyter-button {\n",
       "                    --jp-layout-color3: var(--colab-primary-surface-color, white);\n",
       "                }\n",
       "            </style>\n",
       "            "
      ]
     },
     "metadata": {},
     "output_type": "display_data",
     "jetTransient": {
      "display_id": null
     }
    }
   ],
   "execution_count": 3
  },
  {
   "cell_type": "markdown",
   "id": "ce6f9877862e45c0",
   "metadata": {},
   "source": [
    "# Pretty print a JSON file"
   ]
  },
  {
   "cell_type": "code",
   "id": "4a1516aeee21d3bd",
   "metadata": {},
   "source": [
    "sector_boundaries_path = \"../data/sector_boundaries/geojson/Sector_Boundaries.geojson\"\n",
    "district_boundaries_path = \"../data/district_boundaries/geojson/District_Boundaries.geojson\"\n",
    "\n",
    "def pretty_print_json(file_path):\n",
    "    with open(file_path, \"r\") as infile:\n",
    "        data = json.load(infile)\n",
    "\n",
    "    with open(file_path, \"w\") as outfile:\n",
    "        json.dump(data, outfile, indent=None)\n",
    "\n",
    "# pretty_print_json(sector_boundaries_path)\n",
    "# pretty_print_json(district_boundaries_path)"
   ],
   "outputs": [],
   "execution_count": null
  },
  {
   "cell_type": "markdown",
   "id": "62731b95961fa9fa",
   "metadata": {},
   "source": [
    "# Import GeoJSONs"
   ]
  },
  {
   "cell_type": "code",
   "id": "9542f5b0223f773f",
   "metadata": {},
   "source": [
    "m = geemap.Map()"
   ],
   "outputs": [],
   "execution_count": null
  },
  {
   "cell_type": "markdown",
   "id": "ac3f26cd3f5bc4ab",
   "metadata": {},
   "source": [
    "## Load GeoJSON as python dict (didn't work)"
   ]
  },
  {
   "cell_type": "code",
   "id": "2d1172eb5f67f73e",
   "metadata": {},
   "source": [
    "sector_boundaries_path = \"../data/sector_boundaries/geojson/Sector_Boundaries.geojson\"\n",
    "district_boundaries_path = \"../data/district_boundaries/geojson/District_Boundaries.geojson\"\n",
    "\n",
    "with open(sector_boundaries_path, \"r\") as f:\n",
    "    sector_boundaries = json.load(f)\n",
    "\n",
    "with open(district_boundaries_path, \"r\") as f:\n",
    "    district_boundaries = json.load(f)\n",
    "\n",
    "print(type(sector_boundaries))"
   ],
   "outputs": [],
   "execution_count": null
  },
  {
   "cell_type": "markdown",
   "id": "4912e9a2af86da15",
   "metadata": {},
   "source": [
    "## Use ee.FeatureCollection(\"{file_path}\") (did work)"
   ]
  },
  {
   "cell_type": "code",
   "id": "a02023a012ad302a",
   "metadata": {},
   "source": [
    "district_boundaries_ee = ee.FeatureCollection(district_boundaries_path)\n",
    "sector_boundaries_ee = ee.FeatureCollection(sector_boundaries_path)\n",
    "\n",
    "# Note:\n",
    "# ee.FeatureCollection() works with file paths"
   ],
   "outputs": [],
   "execution_count": null
  },
  {
   "cell_type": "code",
   "id": "63046d4b664fe37b",
   "metadata": {},
   "source": [
    "print(district_boundaries_ee.getInfo()) # Not working"
   ],
   "outputs": [],
   "execution_count": null
  },
  {
   "cell_type": "code",
   "id": "d53f1c9692a15bab",
   "metadata": {},
   "source": [
    "print(type(sector_boundaries_ee))"
   ],
   "outputs": [],
   "execution_count": null
  },
  {
   "cell_type": "markdown",
   "id": "f0c161e790cf69e8",
   "metadata": {},
   "source": [
    "## Attempt to load info from Earth Engine API"
   ]
  },
  {
   "cell_type": "markdown",
   "id": "7a5da30df103dc5c",
   "metadata": {},
   "source": [
    "### Use district_boundaries_ee.filter(ee.Filter.eq(\"district_id\", \"{id}\"))"
   ]
  },
  {
   "cell_type": "code",
   "id": "bdcb5451cff7fb2c",
   "metadata": {},
   "source": [
    "# Load GeoJSON as a FeatureCollection\n",
    "# rwanda = ee.FeatureCollection(sector_boundaries_ee)"
   ],
   "outputs": [],
   "execution_count": null
  },
  {
   "cell_type": "code",
   "id": "e95e669bc112a2f5",
   "metadata": {},
   "source": [
    "# Or a specific sector (sector_id = 5704)\n",
    "mareba = sector_boundaries_ee.filter(ee.Filter.eq(\"sector_id\", \"5704\"))\n",
    "\n",
    "geometry = mareba.geometry()"
   ],
   "outputs": [],
   "execution_count": null
  },
  {
   "cell_type": "code",
   "id": "98beb20ec7e5e642",
   "metadata": {},
   "source": [
    "# Example: Get Bugesera District (district_id = 57)\n",
    "bugesera = (\n",
    "    district_boundaries_ee\n",
    "    .filter(ee.Filter.eq(\"district_id\", \"57\"))\n",
    ")\n",
    "\n",
    "print(type(bugesera))"
   ],
   "outputs": [],
   "execution_count": null
  },
  {
   "cell_type": "code",
   "id": "bff765e7ba80e6cb",
   "metadata": {},
   "source": [
    "print(bugesera)"
   ],
   "outputs": [],
   "execution_count": null
  },
  {
   "cell_type": "code",
   "id": "b7f65ab593836f01",
   "metadata": {},
   "source": [
    "# Extract the geometry\n",
    "geometry = bugesera.geometry()\n",
    "\n",
    "print(type(geometry))"
   ],
   "outputs": [],
   "execution_count": null
  },
  {
   "cell_type": "code",
   "id": "edd31039e324544b",
   "metadata": {},
   "source": [
    "# Not working\n",
    "# Probable cause:EE doesn't have data for the very specific geometry\n",
    "print(geometry.getInfo())"
   ],
   "outputs": [],
   "execution_count": null
  },
  {
   "cell_type": "markdown",
   "id": "1d6f33908c3743f8",
   "metadata": {},
   "source": [
    "### Failed: Try to get area from EE"
   ]
  },
  {
   "cell_type": "code",
   "id": "8cbfbf567d0ada1b",
   "metadata": {},
   "source": [
    "# Print info\n",
    "# print(\"Bugesera sector geometry:\", geometry.getInfo())\n",
    "\n",
    "# Example: calculate its area in square kilometers\n",
    "area_km2 = geometry.area().divide(1e6).getInfo()\n",
    "print(\"Bugesera sector area (km²):\", area_km2)"
   ],
   "outputs": [],
   "execution_count": null
  },
  {
   "cell_type": "markdown",
   "id": "65f2092b24c668bd",
   "metadata": {},
   "source": [
    "## Add district to map"
   ]
  },
  {
   "cell_type": "code",
   "id": "20b886b3f9b800af",
   "metadata": {},
   "source": [
    "m.addLayer(geometry, {'color': 'black'}, 'Geometry [black: geometry')"
   ],
   "outputs": [],
   "execution_count": null
  },
  {
   "cell_type": "markdown",
   "id": "14003c540b9a5bc2",
   "metadata": {},
   "source": [
    "# Test ShapeFile"
   ]
  },
  {
   "cell_type": "code",
   "id": "f27afbbbbd89ea",
   "metadata": {},
   "source": [
    "district_boundaries_path = \"projects/rwanda-climate-alerts/assets/rwanda-district-boundaries\"\n",
    "sector_boundaries_path = \"projects/rwanda-climate-alerts/assets/rwanda-sector-boundaries\"\n",
    "\n",
    "district_boundaries_ee = ee.FeatureCollection(district_boundaries_path)\n",
    "sector_boundaries_ee = ee.FeatureCollection(sector_boundaries_path)\n",
    "\n",
    "print(type(district_boundaries_ee))"
   ],
   "outputs": [],
   "execution_count": null
  },
  {
   "cell_type": "code",
   "id": "ae1e8d5ed8fe57b5",
   "metadata": {},
   "source": [
    "Gasabo = (\n",
    "    district_boundaries_ee\n",
    "    .filter(ee.Filter.eq(\"district\", \"Gasabo\"))\n",
    ")\n",
    "\n",
    "print(type(Gasabo))"
   ],
   "outputs": [],
   "execution_count": null
  },
  {
   "cell_type": "code",
   "id": "d26687e8fe4c87e7",
   "metadata": {},
   "source": [
    "geometry = Gasabo.geometry()\n",
    "\n",
    "# print(geometry.getInfo())"
   ],
   "outputs": [],
   "execution_count": null
  },
  {
   "cell_type": "code",
   "id": "a26531cf588c9682",
   "metadata": {},
   "source": [
    "area_km2 = geometry.area().divide(1e6).getInfo()\n",
    "print(\"Bugesera sector area (km²):\", area_km2)"
   ],
   "outputs": [],
   "execution_count": null
  },
  {
   "cell_type": "code",
   "id": "18358585a5e83da0",
   "metadata": {},
   "source": [
    "m.addLayer(geometry, {'color': 'black'}, 'Geometry [black]: geometry')"
   ],
   "outputs": [],
   "execution_count": null
  },
  {
   "cell_type": "markdown",
   "id": "d90f50be8cadffde",
   "metadata": {},
   "source": [
    "## Attempt 2: add shapefile to map"
   ]
  },
  {
   "cell_type": "code",
   "id": "efbf2a1649a8164d",
   "metadata": {},
   "source": [
    "district_boundaries_shp = \"../data/district_boundaries/shapefile/District_Boundaries.shp\"\n",
    "sector_boundaries_shp = \"../data/sector_boundaries/shapefile/Sector_Boundaries.shp\"\n",
    "\n",
    "districts = geemap.shp_to_ee(district_boundaries_shp)\n",
    "m.addLayer(districts, {'color': 'black'}, 'Geometry [black]: districts')"
   ],
   "outputs": [],
   "execution_count": null
  },
  {
   "cell_type": "markdown",
   "id": "540d9abfe0ea535a",
   "metadata": {},
   "source": [
    "# Test GeoJson"
   ]
  },
  {
   "cell_type": "code",
   "id": "f80bfb9b81d45782",
   "metadata": {
    "ExecuteTime": {
     "end_time": "2025-09-28T17:50:23.552873Z",
     "start_time": "2025-09-28T17:50:22.814948Z"
    }
   },
   "source": [
    "# Define a Geometry object.\n",
    "geometry = ee.Geometry({\n",
    "    'type': 'Polygon',\n",
    "    'coordinates': [[\n",
    "        [-122.081, 37.417],\n",
    "        [-122.086, 37.421],\n",
    "        [-122.084, 37.418],\n",
    "        [-122.089, 37.416],\n",
    "    ]],\n",
    "})\n",
    "\n",
    "districts = ee.FeatureCollection(\"FAO/GAUL/2015/level2\") \\\n",
    "              .filter(ee.Filter.eq(\"ADM0_NAME\", \"Rwanda\"))\n",
    "\n",
    "# Apply the toGeoJSONString method to the Geometry object.\n",
    "geometry_to_geojson_string = geometry.toGeoJSONString()\n",
    "\n",
    "# Print the result.\n",
    "display('geometry.toGeoJSONString(...) =', geometry_to_geojson_string)\n",
    "\n",
    "# Display relevant geometries on the map.\n",
    "m = geemap.Map()\n",
    "m.set_center(-122.085, 37.422, 15)\n",
    "m.add_layer(districts, {'color': 'black'}, 'Geometry [black]: geometry')"
   ],
   "outputs": [
    {
     "data": {
      "text/plain": [
       "<IPython.core.display.HTML object>"
      ],
      "text/html": [
       "\n",
       "            <style>\n",
       "                .geemap-dark {\n",
       "                    --jp-widgets-color: white;\n",
       "                    --jp-widgets-label-color: white;\n",
       "                    --jp-ui-font-color1: white;\n",
       "                    --jp-layout-color2: #454545;\n",
       "                    background-color: #383838;\n",
       "                }\n",
       "\n",
       "                .geemap-dark .jupyter-button {\n",
       "                    --jp-layout-color3: #383838;\n",
       "                }\n",
       "\n",
       "                .geemap-colab {\n",
       "                    background-color: var(--colab-primary-surface-color, white);\n",
       "                }\n",
       "\n",
       "                .geemap-colab .jupyter-button {\n",
       "                    --jp-layout-color3: var(--colab-primary-surface-color, white);\n",
       "                }\n",
       "            </style>\n",
       "            "
      ]
     },
     "metadata": {},
     "output_type": "display_data",
     "jetTransient": {
      "display_id": null
     }
    },
    {
     "data": {
      "text/plain": [
       "'geometry.toGeoJSONString(...) ='"
      ]
     },
     "metadata": {},
     "output_type": "display_data",
     "jetTransient": {
      "display_id": null
     }
    },
    {
     "data": {
      "text/plain": [
       "'{\"type\": \"Polygon\", \"coordinates\": [[[-122.081, 37.417], [-122.086, 37.421], [-122.084, 37.418], [-122.089, 37.416]]]}'"
      ]
     },
     "metadata": {},
     "output_type": "display_data",
     "jetTransient": {
      "display_id": null
     }
    }
   ],
   "execution_count": 6
  },
  {
   "cell_type": "markdown",
   "id": "e418c07284d8d2cc",
   "metadata": {},
   "source": [
    "# Collect Datasets"
   ]
  },
  {
   "cell_type": "markdown",
   "id": "a2b9c0cca1ed0610",
   "metadata": {},
   "source": [
    "## Rainfall"
   ]
  },
  {
   "cell_type": "code",
   "id": "3ddcb79cbd07325e",
   "metadata": {},
   "source": [
    "from datetime import date, timedelta\n",
    "\n",
    "today = date.today()\n",
    "print(type(today))"
   ],
   "outputs": [],
   "execution_count": null
  },
  {
   "metadata": {},
   "cell_type": "code",
   "source": [
    "from datetime import datetime\n",
    "\n",
    "# Example 1: Basic YYYY-MM-DD format\n",
    "date_string_1 = \"2023-10-30\"\n",
    "date_format_1 = \"%Y-%m-%d\"\n",
    "date_object_1 = datetime.strptime(date_string_1, date_format_1)\n",
    "print(f\"Date object 1: {date_object_1}\")\n",
    "print(f\"Type of date_object_1: {type(date_object_1)}\")"
   ],
   "id": "24d0a296f3eb71aa",
   "outputs": [],
   "execution_count": null
  },
  {
   "cell_type": "markdown",
   "id": "9e8fee1e0326e8c9",
   "metadata": {},
   "source": [
    "# Final Map"
   ]
  },
  {
   "cell_type": "code",
   "id": "a9edce02ce7c783c",
   "metadata": {
    "ExecuteTime": {
     "end_time": "2025-09-28T17:50:29.490821Z",
     "start_time": "2025-09-28T17:50:29.461202Z"
    }
   },
   "source": [
    "m = geemap.Map(center=[-2.0, 30.0], zoom=7)\n",
    "m"
   ],
   "outputs": [
    {
     "data": {
      "text/plain": [
       "<IPython.core.display.HTML object>"
      ],
      "text/html": [
       "\n",
       "            <style>\n",
       "                .geemap-dark {\n",
       "                    --jp-widgets-color: white;\n",
       "                    --jp-widgets-label-color: white;\n",
       "                    --jp-ui-font-color1: white;\n",
       "                    --jp-layout-color2: #454545;\n",
       "                    background-color: #383838;\n",
       "                }\n",
       "\n",
       "                .geemap-dark .jupyter-button {\n",
       "                    --jp-layout-color3: #383838;\n",
       "                }\n",
       "\n",
       "                .geemap-colab {\n",
       "                    background-color: var(--colab-primary-surface-color, white);\n",
       "                }\n",
       "\n",
       "                .geemap-colab .jupyter-button {\n",
       "                    --jp-layout-color3: var(--colab-primary-surface-color, white);\n",
       "                }\n",
       "            </style>\n",
       "            "
      ]
     },
     "metadata": {},
     "output_type": "display_data",
     "jetTransient": {
      "display_id": null
     }
    },
    {
     "data": {
      "text/plain": [
       "Map(center=[-2.0, 30.0], controls=(WidgetControl(options=['position', 'transparent_bg'], position='topright', …"
      ],
      "application/vnd.jupyter.widget-view+json": {
       "version_major": 2,
       "version_minor": 0,
       "model_id": "b0ef6d91baa8407cb9f90be007ed05a6"
      }
     },
     "execution_count": 7,
     "metadata": {},
     "output_type": "execute_result"
    }
   ],
   "execution_count": 7
  },
  {
   "metadata": {},
   "cell_type": "code",
   "outputs": [],
   "execution_count": null,
   "source": "",
   "id": "649847bd608c4d05"
  }
 ],
 "metadata": {
  "kernelspec": {
   "display_name": "Python 3",
   "language": "python",
   "name": "python3"
  },
  "language_info": {
   "codemirror_mode": {
    "name": "ipython",
    "version": 2
   },
   "file_extension": ".py",
   "mimetype": "text/x-python",
   "name": "python",
   "nbconvert_exporter": "python",
   "pygments_lexer": "ipython2",
   "version": "2.7.6"
  }
 },
 "nbformat": 4,
 "nbformat_minor": 5
}
