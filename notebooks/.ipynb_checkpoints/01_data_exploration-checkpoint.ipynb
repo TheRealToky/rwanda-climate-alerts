{
 "cells": [
  {
   "metadata": {},
   "cell_type": "markdown",
   "source": "# Imports and Pre-requisites",
   "id": "7be5ab36441ca2e0"
  },
  {
   "metadata": {
    "ExecuteTime": {
     "end_time": "2025-09-27T18:14:01.356493Z",
     "start_time": "2025-09-27T18:14:00.386274Z"
    }
   },
   "cell_type": "code",
   "source": [
    "import ee\n",
    "import geemap\n",
    "import pandas as pd\n",
    "import numpy as np\n",
    "import matplotlib.pyplot as plt\n",
    "from datetime import date, timedelta, datetime"
   ],
   "id": "initial_id",
   "outputs": [],
   "execution_count": 1
  },
  {
   "metadata": {},
   "cell_type": "code",
   "source": "ee.Authenticate()",
   "id": "c00b6e108e21415b",
   "outputs": [],
   "execution_count": null
  },
  {
   "metadata": {},
   "cell_type": "code",
   "source": "ee.Initialize(project=\"rwanda-climate-alerts\")",
   "id": "c07c2f302bf45a50",
   "outputs": [],
   "execution_count": null
  },
  {
   "metadata": {},
   "cell_type": "markdown",
   "source": "# Collect Datasets",
   "id": "e418c07284d8d2cc"
  },
  {
   "metadata": {},
   "cell_type": "markdown",
   "source": [
    "## Baseline setup\n",
    "In this section, we will define the\n",
    "- baseline area of interest: polygon covering Rwanda"
   ],
   "id": "7c6ff2d4bfb9c271"
  },
  {
   "metadata": {},
   "cell_type": "code",
   "source": [
    "aoi = ee.Geometry.Polygon([\n",
    "    [\n",
    "        [28.52, -2.85],\n",
    "        [31.00, -2.85],\n",
    "        [31.00, -1.00],\n",
    "        [28.52, -1.00]\n",
    "    ]\n",
    "])\n",
    "\n"
   ],
   "id": "799d97305c3da35",
   "outputs": [],
   "execution_count": null
  },
  {
   "metadata": {},
   "cell_type": "code",
   "source": [
    "m = geemap.Map(center=[-1.94, 29.87], zoom=8)\n",
    "\n",
    "m.addLayer(aoi, {'color': 'black'}, 'Geometry [black]: geometry')\n",
    "\n",
    "m"
   ],
   "id": "26cd94f2ab8c758a",
   "outputs": [],
   "execution_count": null
  },
  {
   "metadata": {},
   "cell_type": "markdown",
   "source": "## Rainfall",
   "id": "a2b9c0cca1ed0610"
  },
  {
   "metadata": {},
   "cell_type": "code",
   "source": [
    "# Drought dates\n",
    "drought_years = [\"1984\", \"1989\", \"1996\", \"1999\", \"2000\", \"2003\", \"2005\", \"2006\", \"2006\", \"2014\"]\n",
    "\n",
    "# Flood dates\n",
    "flood_years = [\"1988\", \"2000\", \"2001\", \"2001\", \"2002\", \"2003\", \"2005\"]\n",
    "\n",
    "# drought_years = [\n",
    "#     \"1984-10-01\",\n",
    "#     \"1989-12-01\",\n",
    "#     \"1996-01-01\",\n",
    "#     \"1999-11-01\",\n",
    "#     \"2000-01-01\",  # \"Early 2000\"\n",
    "#     \"2003-03-01\",\n",
    "#     \"2005-02-01\",\n",
    "#     \"2006-03-01\",\n",
    "#     \"2006-09-01\",\n",
    "#     \"2014-06-01\"\n",
    "# ]\n",
    "#\n",
    "# # Flood dates\n",
    "# flood_years = [\n",
    "#     \"1988-05-06\",\n",
    "#     \"2000-11-21\",\n",
    "#     \"2001-09-22\",\n",
    "#     \"2001-10-30\",\n",
    "#     \"2002-04-26\",\n",
    "#     \"2003-10-30\",\n",
    "#     \"2005-08-16\"\n",
    "# ]"
   ],
   "id": "3ddcb79cbd07325e",
   "outputs": [],
   "execution_count": null
  },
  {
   "metadata": {},
   "cell_type": "code",
   "source": [
    "## Convert date string to date format\n",
    "def str_to_date_range(date_string, date_format):\n",
    "    initial_date = datetime.strptime(date_string, date_format)\n",
    "\n",
    "    two_weeks_early_date = initial_date - timedelta(weeks=2)\n",
    "    two_weeks_later_date = initial_date + timedelta(weeks=2)\n",
    "\n",
    "    return two_weeks_early_date, two_weeks_later_date\n",
    "\n",
    "# date_1, date_2 = str_to_date_range(\"1970-01-01\", \"%Y-%m-%d\")\n",
    "# print(date_1, date_2)\n",
    "\n",
    "def date_range_to_list(date_list):\n",
    "    date_range_list = []\n",
    "\n",
    "    for flood_date in date_list:\n",
    "        date_range_0, date_range_1 = str_to_date_range(flood_date, \"%Y-%m-%d\")\n",
    "        date_range_list.append([date_range_0, date_range_1])\n",
    "\n",
    "    return date_range_list\n",
    "\n",
    "flood_dates_range = []\n",
    "\n",
    "for flood_range in flood_dates_range:\n",
    "    print(flood_range[0], flood_range[1])"
   ],
   "id": "cf82998af56f4c09",
   "outputs": [],
   "execution_count": null
  },
  {
   "metadata": {},
   "cell_type": "code",
   "source": [
    "chirps = ee.ImageCollection('UCSB-CHG/CHIRPS/DAILY').filter(\n",
    "    ee.Filter.date(\"\",\"\")\n",
    ")\n"
   ],
   "id": "b52825b7c4245a3a",
   "outputs": [],
   "execution_count": null
  }
 ],
 "metadata": {
  "kernelspec": {
   "display_name": "Python 3",
   "language": "python",
   "name": "python3"
  },
  "language_info": {
   "codemirror_mode": {
    "name": "ipython",
    "version": 2
   },
   "file_extension": ".py",
   "mimetype": "text/x-python",
   "name": "python",
   "nbconvert_exporter": "python",
   "pygments_lexer": "ipython2",
   "version": "2.7.6"
  }
 },
 "nbformat": 4,
 "nbformat_minor": 5
}
