{
 "cells": [
  {
   "cell_type": "markdown",
   "id": "7be5ab36441ca2e0",
   "metadata": {},
   "source": [
    "# Imports and Pre-requisites"
   ]
  },
  {
   "cell_type": "code",
   "execution_count": 1,
   "id": "initial_id",
   "metadata": {
    "ExecuteTime": {
     "end_time": "2025-10-01T19:20:40.509964Z",
     "start_time": "2025-10-01T19:20:40.504875Z"
    }
   },
   "outputs": [],
   "source": [
    "import ee\n",
    "import geemap\n",
    "from datetime import timedelta, datetime\n",
    "\n",
    "# import pandas as pd\n",
    "# import numpy as np\n",
    "# import matplotlib.pyplot as plt"
   ]
  },
  {
   "cell_type": "code",
   "execution_count": 2,
   "id": "c00b6e108e21415b",
   "metadata": {
    "ExecuteTime": {
     "end_time": "2025-10-01T19:20:42.366371Z",
     "start_time": "2025-10-01T19:20:40.524641Z"
    }
   },
   "outputs": [
    {
     "data": {
      "text/html": [
       "\n",
       "            <style>\n",
       "                .geemap-dark {\n",
       "                    --jp-widgets-color: white;\n",
       "                    --jp-widgets-label-color: white;\n",
       "                    --jp-ui-font-color1: white;\n",
       "                    --jp-layout-color2: #454545;\n",
       "                    background-color: #383838;\n",
       "                }\n",
       "\n",
       "                .geemap-dark .jupyter-button {\n",
       "                    --jp-layout-color3: #383838;\n",
       "                }\n",
       "\n",
       "                .geemap-colab {\n",
       "                    background-color: var(--colab-primary-surface-color, white);\n",
       "                }\n",
       "\n",
       "                .geemap-colab .jupyter-button {\n",
       "                    --jp-layout-color3: var(--colab-primary-surface-color, white);\n",
       "                }\n",
       "            </style>\n",
       "            "
      ],
      "text/plain": [
       "<IPython.core.display.HTML object>"
      ]
     },
     "metadata": {},
     "output_type": "display_data"
    },
    {
     "data": {
      "text/plain": [
       "True"
      ]
     },
     "execution_count": 2,
     "metadata": {},
     "output_type": "execute_result"
    }
   ],
   "source": [
    "ee.Authenticate()"
   ]
  },
  {
   "cell_type": "code",
   "execution_count": 6,
   "id": "c07c2f302bf45a50",
   "metadata": {
    "ExecuteTime": {
     "end_time": "2025-10-01T19:20:44.205205Z",
     "start_time": "2025-10-01T19:20:42.390628Z"
    }
   },
   "outputs": [
    {
     "data": {
      "text/html": [
       "\n",
       "            <style>\n",
       "                .geemap-dark {\n",
       "                    --jp-widgets-color: white;\n",
       "                    --jp-widgets-label-color: white;\n",
       "                    --jp-ui-font-color1: white;\n",
       "                    --jp-layout-color2: #454545;\n",
       "                    background-color: #383838;\n",
       "                }\n",
       "\n",
       "                .geemap-dark .jupyter-button {\n",
       "                    --jp-layout-color3: #383838;\n",
       "                }\n",
       "\n",
       "                .geemap-colab {\n",
       "                    background-color: var(--colab-primary-surface-color, white);\n",
       "                }\n",
       "\n",
       "                .geemap-colab .jupyter-button {\n",
       "                    --jp-layout-color3: var(--colab-primary-surface-color, white);\n",
       "                }\n",
       "            </style>\n",
       "            "
      ],
      "text/plain": [
       "<IPython.core.display.HTML object>"
      ]
     },
     "metadata": {},
     "output_type": "display_data"
    }
   ],
   "source": [
    "ee.Initialize(project=\"rwanda-climate-alerts\")"
   ]
  },
  {
   "cell_type": "markdown",
   "id": "e418c07284d8d2cc",
   "metadata": {},
   "source": [
    "# Collect Datasets"
   ]
  },
  {
   "cell_type": "markdown",
   "id": "7c6ff2d4bfb9c271",
   "metadata": {},
   "source": [
    "## Baseline setup\n",
    "In this section, we will define the\n",
    "- baseline area of interest: polygon covering Rwanda\n",
    "- drought/flood years"
   ]
  },
  {
   "cell_type": "code",
   "execution_count": 7,
   "id": "3ddcb79cbd07325e",
   "metadata": {
    "ExecuteTime": {
     "end_time": "2025-10-01T19:20:44.214741Z",
     "start_time": "2025-10-01T19:20:44.211512Z"
    },
    "jupyter": {
     "source_hidden": true
    }
   },
   "outputs": [
    {
     "data": {
      "text/html": [
       "\n",
       "            <style>\n",
       "                .geemap-dark {\n",
       "                    --jp-widgets-color: white;\n",
       "                    --jp-widgets-label-color: white;\n",
       "                    --jp-ui-font-color1: white;\n",
       "                    --jp-layout-color2: #454545;\n",
       "                    background-color: #383838;\n",
       "                }\n",
       "\n",
       "                .geemap-dark .jupyter-button {\n",
       "                    --jp-layout-color3: #383838;\n",
       "                }\n",
       "\n",
       "                .geemap-colab {\n",
       "                    background-color: var(--colab-primary-surface-color, white);\n",
       "                }\n",
       "\n",
       "                .geemap-colab .jupyter-button {\n",
       "                    --jp-layout-color3: var(--colab-primary-surface-color, white);\n",
       "                }\n",
       "            </style>\n",
       "            "
      ],
      "text/plain": [
       "<IPython.core.display.HTML object>"
      ]
     },
     "metadata": {},
     "output_type": "display_data"
    }
   ],
   "source": [
    "# drought_years = [\n",
    "#     \"1984-10-01\",\n",
    "#     \"1989-12-01\",\n",
    "#     \"1996-01-01\",\n",
    "#     \"1999-11-01\",\n",
    "#     \"2000-01-01\",  # \"Early 2000\"\n",
    "#     \"2003-03-01\",\n",
    "#     \"2005-02-01\",\n",
    "#     \"2006-03-01\",\n",
    "#     \"2006-09-01\",\n",
    "#     \"2014-06-01\"\n",
    "# ]\n",
    "#\n",
    "# # Flood dates\n",
    "# flood_years = [\n",
    "#     \"1988-05-06\",\n",
    "#     \"2000-11-21\",\n",
    "#     \"2001-09-22\",\n",
    "#     \"2001-10-30\",\n",
    "#     \"2002-04-26\",\n",
    "#     \"2003-10-30\",\n",
    "#     \"2005-08-16\"\n",
    "# ]"
   ]
  },
  {
   "cell_type": "code",
   "execution_count": 8,
   "id": "cf82998af56f4c09",
   "metadata": {
    "ExecuteTime": {
     "end_time": "2025-10-01T19:20:44.225556Z",
     "start_time": "2025-10-01T19:20:44.219139Z"
    },
    "jupyter": {
     "source_hidden": true
    }
   },
   "outputs": [
    {
     "data": {
      "text/html": [
       "\n",
       "            <style>\n",
       "                .geemap-dark {\n",
       "                    --jp-widgets-color: white;\n",
       "                    --jp-widgets-label-color: white;\n",
       "                    --jp-ui-font-color1: white;\n",
       "                    --jp-layout-color2: #454545;\n",
       "                    background-color: #383838;\n",
       "                }\n",
       "\n",
       "                .geemap-dark .jupyter-button {\n",
       "                    --jp-layout-color3: #383838;\n",
       "                }\n",
       "\n",
       "                .geemap-colab {\n",
       "                    background-color: var(--colab-primary-surface-color, white);\n",
       "                }\n",
       "\n",
       "                .geemap-colab .jupyter-button {\n",
       "                    --jp-layout-color3: var(--colab-primary-surface-color, white);\n",
       "                }\n",
       "            </style>\n",
       "            "
      ],
      "text/plain": [
       "<IPython.core.display.HTML object>"
      ]
     },
     "metadata": {},
     "output_type": "display_data"
    }
   ],
   "source": [
    "# Convert date string to date format\n",
    "def str_to_date_range(date_string, date_format):\n",
    "    initial_date = datetime.strptime(date_string, date_format)\n",
    "\n",
    "    two_weeks_early_date = initial_date - timedelta(weeks=2)\n",
    "    two_weeks_later_date = initial_date + timedelta(weeks=2)\n",
    "\n",
    "    return two_weeks_early_date, two_weeks_later_date\n",
    "\n",
    "# date_1, date_2 = str_to_date_range(\"1970-01-01\", \"%Y-%m-%d\")\n",
    "# print(date_1, date_2)\n",
    "\n",
    "def date_range_to_list(date_list):\n",
    "    date_range_list = []\n",
    "\n",
    "    for flood_date in date_list:\n",
    "        date_range_0, date_range_1 = str_to_date_range(flood_date, \"%Y-%m-%d\")\n",
    "        date_range_list.append([date_range_0, date_range_1])\n",
    "\n",
    "    return date_range_list\n",
    "\n",
    "flood_dates_range = []\n",
    "\n",
    "for flood_range in flood_dates_range:\n",
    "    print(flood_range[0], flood_range[1])"
   ]
  },
  {
   "cell_type": "code",
   "execution_count": 9,
   "id": "799d97305c3da35",
   "metadata": {
    "ExecuteTime": {
     "end_time": "2025-10-01T19:20:44.233538Z",
     "start_time": "2025-10-01T19:20:44.228556Z"
    }
   },
   "outputs": [
    {
     "data": {
      "text/html": [
       "\n",
       "            <style>\n",
       "                .geemap-dark {\n",
       "                    --jp-widgets-color: white;\n",
       "                    --jp-widgets-label-color: white;\n",
       "                    --jp-ui-font-color1: white;\n",
       "                    --jp-layout-color2: #454545;\n",
       "                    background-color: #383838;\n",
       "                }\n",
       "\n",
       "                .geemap-dark .jupyter-button {\n",
       "                    --jp-layout-color3: #383838;\n",
       "                }\n",
       "\n",
       "                .geemap-colab {\n",
       "                    background-color: var(--colab-primary-surface-color, white);\n",
       "                }\n",
       "\n",
       "                .geemap-colab .jupyter-button {\n",
       "                    --jp-layout-color3: var(--colab-primary-surface-color, white);\n",
       "                }\n",
       "            </style>\n",
       "            "
      ],
      "text/plain": [
       "<IPython.core.display.HTML object>"
      ]
     },
     "metadata": {},
     "output_type": "display_data"
    }
   ],
   "source": [
    "# Drought dates\n",
    "drought_years = [\"1984\", \"1989\", \"1996\", \"1999\", \"2000\", \"2003\", \"2005\", \"2006\", \"2006\", \"2014\"]\n",
    "\n",
    "# Flood dates\n",
    "flood_years = [\"1988\", \"2000\", \"2001\", \"2001\", \"2002\", \"2003\", \"2005\"]"
   ]
  },
  {
   "cell_type": "markdown",
   "id": "e2447693-cdc0-4c1b-bd90-b27ad11093aa",
   "metadata": {},
   "source": [
    "## Fetch Datasets"
   ]
  },
  {
   "cell_type": "code",
   "execution_count": 10,
   "id": "3d871fd4f7567eb8",
   "metadata": {
    "ExecuteTime": {
     "end_time": "2025-10-01T19:27:18.195507Z",
     "start_time": "2025-10-01T19:27:16.142681Z"
    }
   },
   "outputs": [
    {
     "data": {
      "text/html": [
       "\n",
       "            <style>\n",
       "                .geemap-dark {\n",
       "                    --jp-widgets-color: white;\n",
       "                    --jp-widgets-label-color: white;\n",
       "                    --jp-ui-font-color1: white;\n",
       "                    --jp-layout-color2: #454545;\n",
       "                    background-color: #383838;\n",
       "                }\n",
       "\n",
       "                .geemap-dark .jupyter-button {\n",
       "                    --jp-layout-color3: #383838;\n",
       "                }\n",
       "\n",
       "                .geemap-colab {\n",
       "                    background-color: var(--colab-primary-surface-color, white);\n",
       "                }\n",
       "\n",
       "                .geemap-colab .jupyter-button {\n",
       "                    --jp-layout-color3: var(--colab-primary-surface-color, white);\n",
       "                }\n",
       "            </style>\n",
       "            "
      ],
      "text/plain": [
       "<IPython.core.display.HTML object>"
      ]
     },
     "metadata": {},
     "output_type": "display_data"
    }
   ],
   "source": [
    "# Create map\n",
    "Map = geemap.Map()\n",
    "\n",
    "# Fetch the district outline of Rwanda\n",
    "districts = ee.FeatureCollection(\"FAO/GAUL/2015/level2\") \\\n",
    "                .filter(ee.Filter.eq(\"ADM0_NAME\", \"Rwanda\"))\n",
    "\n",
    "districts_geometry = districts.map(lambda feature: feature.geometry())\n",
    "\n",
    "# Polygon englobing Rwanda\n",
    "rwanda = ee.Geometry.Polygon([\n",
    "    [\n",
    "        [28.70, -2.85],\n",
    "        [31.00, -2.85],\n",
    "        [31.00, -1.00],\n",
    "        [28.70, -1.00]\n",
    "    ]\n",
    "])\n",
    "\n",
    "# Add a buffer around Rwanda\n",
    "rwanda_buffered = rwanda.buffer(10000) # 10,000 meters\n",
    "Map.centerObject(districts, 7)"
   ]
  },
  {
   "cell_type": "code",
   "execution_count": 11,
   "id": "b52825b7c4245a3a",
   "metadata": {
    "ExecuteTime": {
     "end_time": "2025-10-01T19:27:19.375262Z",
     "start_time": "2025-10-01T19:27:19.364897Z"
    }
   },
   "outputs": [
    {
     "data": {
      "text/html": [
       "\n",
       "            <style>\n",
       "                .geemap-dark {\n",
       "                    --jp-widgets-color: white;\n",
       "                    --jp-widgets-label-color: white;\n",
       "                    --jp-ui-font-color1: white;\n",
       "                    --jp-layout-color2: #454545;\n",
       "                    background-color: #383838;\n",
       "                }\n",
       "\n",
       "                .geemap-dark .jupyter-button {\n",
       "                    --jp-layout-color3: #383838;\n",
       "                }\n",
       "\n",
       "                .geemap-colab {\n",
       "                    background-color: var(--colab-primary-surface-color, white);\n",
       "                }\n",
       "\n",
       "                .geemap-colab .jupyter-button {\n",
       "                    --jp-layout-color3: var(--colab-primary-surface-color, white);\n",
       "                }\n",
       "            </style>\n",
       "            "
      ],
      "text/plain": [
       "<IPython.core.display.HTML object>"
      ]
     },
     "metadata": {},
     "output_type": "display_data"
    }
   ],
   "source": [
    "# CHIRPS Daily Rainfall (mm/day)\n",
    "chirps = ee.ImageCollection('UCSB-CHG/CHIRPS/DAILY')\\\n",
    "            .filterDate(\"2005-01-01\", \"2025-07-31\")\\\n",
    "            .filterBounds(rwanda_buffered) \\\n",
    "            .map(lambda img: img.clip(rwanda_buffered))\n",
    "\n",
    "# ERA5 Land Monthly Temperature\n",
    "era5_temp = ee.ImageCollection(\"ECMWF/ERA5_LAND/MONTHLY_AGGR\") \\\n",
    "                .select(\"temperature_2m\") \\\n",
    "                .filterDate(\"2005-01-01\", \"2025-07-31\") \\\n",
    "                .filterBounds(rwanda_buffered) \\\n",
    "                .map(lambda img: img.clip(rwanda_buffered))\n",
    "\n",
    "# Soil Moisture (ERA5 Land)\n",
    "soil_moist = ee.ImageCollection(\"ECMWF/ERA5_LAND/MONTHLY_AGGR\") \\\n",
    "                .select(\"volumetric_soil_water_layer_1\") \\\n",
    "                .filterDate(\"2005-01-01\", \"2025-07-31\") \\\n",
    "                .filterBounds(rwanda_buffered) \\\n",
    "                .map(lambda img: img.clip(rwanda_buffered))\n",
    "\n",
    "# MODIS NDVI (monthly, 250 m)\n",
    "ndvi = ee.ImageCollection(\"MODIS/006/MOD13A1\") \\\n",
    "            .select(\"NDVI\") \\\n",
    "            .filterDate(\"2005-01-01\", \"2025-07-31\") \\\n",
    "            .filterBounds(rwanda_buffered) \\\n",
    "            .map(lambda img: img.clip(rwanda_buffered))\n",
    "\n",
    "# DEM (SRTM ~30m resolution)\n",
    "dem = ee.Image(\"USGS/SRTMGL1_003\").clip(rwanda_buffered)\n",
    "\n",
    "# Calculate slope (degrees)\n",
    "slope = ee.Terrain.slope(dem)\n",
    "\n",
    "\n",
    "# ESA WorldCover 2020 (10 m)\n",
    "# landcover = ee.Image(\"ESA/WorldCover/v200/2022\").clip(rwanda_buffered)\n",
    "\n",
    "# MODIS Land Cover (optional, for time series)\n",
    "# modis_lc = ee.ImageCollection(\"MODIS/006/MCD12Q1\") \\\n",
    "#                 .select(\"LC_Type1\") \\\n",
    "#                 .filterDate(\"2001-01-01\", \"2020-12-31\") \\\n",
    "#                 .filterBounds(districts) \\\n",
    "#                 .map(lambda img: img.clip(rwanda_buffered))"
   ]
  },
  {
   "cell_type": "code",
   "execution_count": 12,
   "id": "1a8f0d6114be937c",
   "metadata": {
    "ExecuteTime": {
     "end_time": "2025-10-01T19:27:20.106505Z",
     "start_time": "2025-10-01T19:27:20.100398Z"
    }
   },
   "outputs": [
    {
     "data": {
      "text/html": [
       "\n",
       "            <style>\n",
       "                .geemap-dark {\n",
       "                    --jp-widgets-color: white;\n",
       "                    --jp-widgets-label-color: white;\n",
       "                    --jp-ui-font-color1: white;\n",
       "                    --jp-layout-color2: #454545;\n",
       "                    background-color: #383838;\n",
       "                }\n",
       "\n",
       "                .geemap-dark .jupyter-button {\n",
       "                    --jp-layout-color3: #383838;\n",
       "                }\n",
       "\n",
       "                .geemap-colab {\n",
       "                    background-color: var(--colab-primary-surface-color, white);\n",
       "                }\n",
       "\n",
       "                .geemap-colab .jupyter-button {\n",
       "                    --jp-layout-color3: var(--colab-primary-surface-color, white);\n",
       "                }\n",
       "            </style>\n",
       "            "
      ],
      "text/plain": [
       "<IPython.core.display.HTML object>"
      ]
     },
     "metadata": {},
     "output_type": "display_data"
    }
   ],
   "source": [
    "# print(chirps.bandNames().getInfo())\n",
    "# print(era5_temp.bandNames().getInfo())\n",
    "# print(soil_moist.bandNames().getInfo())\n",
    "# print(ndvi.bandNames().getInfo())\n",
    "# print(dem.bandNames().getInfo())"
   ]
  },
  {
   "cell_type": "markdown",
   "id": "70f342325509e2a2",
   "metadata": {},
   "source": [
    "# Aggregate monthly"
   ]
  },
  {
   "cell_type": "code",
   "execution_count": 13,
   "id": "11302f661c80a94f",
   "metadata": {
    "ExecuteTime": {
     "end_time": "2025-10-01T19:27:20.794853Z",
     "start_time": "2025-10-01T19:27:20.787501Z"
    }
   },
   "outputs": [
    {
     "data": {
      "text/html": [
       "\n",
       "            <style>\n",
       "                .geemap-dark {\n",
       "                    --jp-widgets-color: white;\n",
       "                    --jp-widgets-label-color: white;\n",
       "                    --jp-ui-font-color1: white;\n",
       "                    --jp-layout-color2: #454545;\n",
       "                    background-color: #383838;\n",
       "                }\n",
       "\n",
       "                .geemap-dark .jupyter-button {\n",
       "                    --jp-layout-color3: #383838;\n",
       "                }\n",
       "\n",
       "                .geemap-colab {\n",
       "                    background-color: var(--colab-primary-surface-color, white);\n",
       "                }\n",
       "\n",
       "                .geemap-colab .jupyter-button {\n",
       "                    --jp-layout-color3: var(--colab-primary-surface-color, white);\n",
       "                }\n",
       "            </style>\n",
       "            "
      ],
      "text/plain": [
       "<IPython.core.display.HTML object>"
      ]
     },
     "metadata": {},
     "output_type": "display_data"
    }
   ],
   "source": [
    "def aggregate_monthly(image_collection):\n",
    "    monthly_result = image_collection.map(lambda img: img.set(\"month\", img.date().format(\"YYYY-MM\")))\n",
    "    monthly_sum = monthly_result.reduce(ee.Reducer.sum())\n",
    "    return monthly_result, monthly_sum\n",
    "\n",
    "monthly_chirps, monthly_chirps_sum = aggregate_monthly(chirps)\n",
    "monthly_era5_temp, monthly_era5_temp_sum = aggregate_monthly(era5_temp)\n",
    "monthly_soil_moist, monthly_soil_moist_sum = aggregate_monthly(soil_moist)\n",
    "monthly_ndvi, monthly_ndvi_sum = aggregate_monthly(ndvi)\n",
    "\n",
    "# print(type(monthly_era5_temp_sum), type(monthly_chirps_sum))\n",
    "# print(monthly_chirps.getInfo())"
   ]
  },
  {
   "cell_type": "markdown",
   "id": "30ca86603018ed6e",
   "metadata": {},
   "source": [
    "# Calculate historical baseline and anomalies"
   ]
  },
  {
   "cell_type": "code",
   "execution_count": 14,
   "id": "7b890336139f8fd5",
   "metadata": {
    "ExecuteTime": {
     "end_time": "2025-10-01T19:27:21.308117Z",
     "start_time": "2025-10-01T19:27:21.300846Z"
    }
   },
   "outputs": [
    {
     "data": {
      "text/html": [
       "\n",
       "            <style>\n",
       "                .geemap-dark {\n",
       "                    --jp-widgets-color: white;\n",
       "                    --jp-widgets-label-color: white;\n",
       "                    --jp-ui-font-color1: white;\n",
       "                    --jp-layout-color2: #454545;\n",
       "                    background-color: #383838;\n",
       "                }\n",
       "\n",
       "                .geemap-dark .jupyter-button {\n",
       "                    --jp-layout-color3: #383838;\n",
       "                }\n",
       "\n",
       "                .geemap-colab {\n",
       "                    background-color: var(--colab-primary-surface-color, white);\n",
       "                }\n",
       "\n",
       "                .geemap-colab .jupyter-button {\n",
       "                    --jp-layout-color3: var(--colab-primary-surface-color, white);\n",
       "                }\n",
       "            </style>\n",
       "            "
      ],
      "text/plain": [
       "<IPython.core.display.HTML object>"
      ]
     },
     "metadata": {},
     "output_type": "display_data"
    }
   ],
   "source": [
    "def calculate_baseline(image_collection):\n",
    "    # Define baseline period (e.g., 2000–2015)\n",
    "    baseline = image_collection.filterDate(\"2005-01-01\", \"2015-12-31\")\n",
    "\n",
    "    # Mean rainfall baseline\n",
    "    baseline_mean = baseline.mean()\n",
    "\n",
    "    # Recent period (e.g., 2020–2025)\n",
    "    recent = image_collection.filterDate(\"2025-07-01\", \"2025-07-31\").mean()\n",
    "\n",
    "    # Rainfall anomaly (recent vs baseline)\n",
    "    anomaly = recent.subtract(baseline_mean).divide(baseline_mean)\n",
    "\n",
    "    return baseline, baseline_mean, anomaly\n",
    "\n",
    "rain_baseline, rain_baseline_mean, rain_anomaly = calculate_baseline(chirps)\n",
    "temp_baseline, temp_baseline_mean, temp_anomaly = calculate_baseline(era5_temp)\n",
    "soil_moist_baseline, soil_moist_baseline_mean, soil_moist_anomaly = calculate_baseline(soil_moist)\n",
    "ndvi_baseline, ndvi_baseline_mean, ndvi_anomaly = calculate_baseline(ndvi)\n",
    "\n",
    "# print(type(ndvi_anomaly))\n",
    "# print(ndvi_anomaly.getInfo())"
   ]
  },
  {
   "cell_type": "markdown",
   "id": "ce5cfae7554d2264",
   "metadata": {},
   "source": [
    "# Normalize indices (0-1)"
   ]
  },
  {
   "cell_type": "code",
   "execution_count": 15,
   "id": "341f35b8c23ba71d",
   "metadata": {
    "ExecuteTime": {
     "end_time": "2025-10-01T19:27:22.523988Z",
     "start_time": "2025-10-01T19:27:22.516667Z"
    }
   },
   "outputs": [
    {
     "data": {
      "text/html": [
       "\n",
       "            <style>\n",
       "                .geemap-dark {\n",
       "                    --jp-widgets-color: white;\n",
       "                    --jp-widgets-label-color: white;\n",
       "                    --jp-ui-font-color1: white;\n",
       "                    --jp-layout-color2: #454545;\n",
       "                    background-color: #383838;\n",
       "                }\n",
       "\n",
       "                .geemap-dark .jupyter-button {\n",
       "                    --jp-layout-color3: #383838;\n",
       "                }\n",
       "\n",
       "                .geemap-colab {\n",
       "                    background-color: var(--colab-primary-surface-color, white);\n",
       "                }\n",
       "\n",
       "                .geemap-colab .jupyter-button {\n",
       "                    --jp-layout-color3: var(--colab-primary-surface-color, white);\n",
       "                }\n",
       "            </style>\n",
       "            "
      ],
      "text/plain": [
       "<IPython.core.display.HTML object>"
      ]
     },
     "metadata": {},
     "output_type": "display_data"
    }
   ],
   "source": [
    "def normalize(img, region):\n",
    "    min_dict = img.reduceRegion(\n",
    "        reducer=ee.Reducer.min(),\n",
    "        geometry=region,\n",
    "        scale=1000,\n",
    "        maxPixels=1e13,\n",
    "        bestEffort=True\n",
    "    ).values().get(0)\n",
    "    max_dict = img.reduceRegion(\n",
    "        reducer=ee.Reducer.max(),\n",
    "        geometry=region,\n",
    "        scale=1000,\n",
    "        maxPixels=1e13,\n",
    "        bestEffort=True\n",
    "    ).values().get(0)\n",
    "\n",
    "    min_value = ee.Number(min_dict)\n",
    "    max_value = ee.Number(max_dict)\n",
    "\n",
    "    return img.subtract(min_value).divide(max_value.subtract(min_value))\n",
    "    # range_value = max_value.subtract(min_value)\n",
    "    #\n",
    "    # # Protect against divide by zero (flat images)\n",
    "    # norm_img = ee.Algorithms.If(\n",
    "    #     range_value.eq(0),\n",
    "    #     img.multiply(0),  # return constant zero image\n",
    "    #     img.subtract(min_value).divide(range_value)\n",
    "    # )\n",
    "    # return ee.Image(norm_img).rename(img.bandNames().get(0))\n",
    "\n",
    "rain_norm = normalize(rain_anomaly, districts)\n",
    "temp_norm = normalize(temp_anomaly, districts)\n",
    "soil_moist_norm = normalize(soil_moist_anomaly, districts)\n",
    "ndvi_norm = normalize(ndvi_anomaly, districts)\n",
    "\n",
    "dem_norm = normalize(dem, districts)\n",
    "slope_norm = normalize(slope, districts)\n",
    "\n",
    "# print(type(slope))\n",
    "# print(dem_norm.getInfo())"
   ]
  },
  {
   "cell_type": "markdown",
   "id": "ba07f91616660d99",
   "metadata": {},
   "source": [
    "# Cobine risk indexes"
   ]
  },
  {
   "cell_type": "code",
   "execution_count": 16,
   "id": "74964c8c61f31436",
   "metadata": {
    "ExecuteTime": {
     "end_time": "2025-10-01T19:27:23.594773Z",
     "start_time": "2025-10-01T19:27:23.586698Z"
    }
   },
   "outputs": [
    {
     "data": {
      "text/html": [
       "\n",
       "            <style>\n",
       "                .geemap-dark {\n",
       "                    --jp-widgets-color: white;\n",
       "                    --jp-widgets-label-color: white;\n",
       "                    --jp-ui-font-color1: white;\n",
       "                    --jp-layout-color2: #454545;\n",
       "                    background-color: #383838;\n",
       "                }\n",
       "\n",
       "                .geemap-dark .jupyter-button {\n",
       "                    --jp-layout-color3: #383838;\n",
       "                }\n",
       "\n",
       "                .geemap-colab {\n",
       "                    background-color: var(--colab-primary-surface-color, white);\n",
       "                }\n",
       "\n",
       "                .geemap-colab .jupyter-button {\n",
       "                    --jp-layout-color3: var(--colab-primary-surface-color, white);\n",
       "                }\n",
       "            </style>\n",
       "            "
      ],
      "text/plain": [
       "<IPython.core.display.HTML object>"
      ]
     },
     "metadata": {},
     "output_type": "display_data"
    }
   ],
   "source": [
    "flood_risk_index = rain_norm.multiply(0.4) \\\n",
    "                    .add(temp_norm.multiply(0.3)) \\\n",
    "                    .add(slope_norm.multiply(0.2))\n",
    "                    # .add(ndvi_norm.multiply(0.2)) \\\n",
    "\n",
    "drought_risk_index = rain_norm.multiply(-1).add(1).multiply(0.4) \\\n",
    "                    .add(soil_moist_norm.multiply(-1).add(1).multiply(0.3)) \\\n",
    "                    .add(temp_norm.multiply(0.3))\n",
    "                    # .add(ndvi_norm.multiply(-1).add(1).multiply(0.2)) \\\n",
    "# NDVI is causing some trouble, still in the process of figuring it out\n",
    "\n",
    "landslide_risk_index = rain_norm.multiply(0.4) \\\n",
    "                        .add(soil_moist_norm.multiply(0.3)) \\\n",
    "                        .add(slope_norm.multiply(0.3))\n",
    "\n",
    "# print(landslide_risk_index.getInfo())"
   ]
  },
  {
   "cell_type": "markdown",
   "id": "109112cd33e79535",
   "metadata": {},
   "source": [
    "# Aggregate risk by district"
   ]
  },
  {
   "cell_type": "code",
   "execution_count": 17,
   "id": "62ba138cde91c888",
   "metadata": {
    "ExecuteTime": {
     "end_time": "2025-10-01T19:27:25.035116Z",
     "start_time": "2025-10-01T19:27:25.027700Z"
    }
   },
   "outputs": [
    {
     "data": {
      "text/html": [
       "\n",
       "            <style>\n",
       "                .geemap-dark {\n",
       "                    --jp-widgets-color: white;\n",
       "                    --jp-widgets-label-color: white;\n",
       "                    --jp-ui-font-color1: white;\n",
       "                    --jp-layout-color2: #454545;\n",
       "                    background-color: #383838;\n",
       "                }\n",
       "\n",
       "                .geemap-dark .jupyter-button {\n",
       "                    --jp-layout-color3: #383838;\n",
       "                }\n",
       "\n",
       "                .geemap-colab {\n",
       "                    background-color: var(--colab-primary-surface-color, white);\n",
       "                }\n",
       "\n",
       "                .geemap-colab .jupyter-button {\n",
       "                    --jp-layout-color3: var(--colab-primary-surface-color, white);\n",
       "                }\n",
       "            </style>\n",
       "            "
      ],
      "text/plain": [
       "<IPython.core.display.HTML object>"
      ]
     },
     "metadata": {},
     "output_type": "display_data"
    }
   ],
   "source": [
    "def aggregate_risk(risk_index):\n",
    "    district_stats = risk_index.reduceRegions(\n",
    "        collection=districts,\n",
    "        reducer=ee.Reducer.mean(),\n",
    "        scale=1000\n",
    "    )\n",
    "    return district_stats\n",
    "\n",
    "flood_risk_stats = aggregate_risk(flood_risk_index)\n",
    "drought_risk_stats = aggregate_risk(drought_risk_index)\n",
    "landslide_risk_stats = aggregate_risk(landslide_risk_index)\n",
    "\n",
    "# print(type(flood_risk_stats))\n",
    "# Print first feature\n",
    "# print(flood_risk_stats.first().getInfo())"
   ]
  },
  {
   "cell_type": "code",
   "execution_count": 23,
   "id": "543e08db4d1c036d",
   "metadata": {
    "ExecuteTime": {
     "end_time": "2025-10-01T19:27:34.134756Z",
     "start_time": "2025-10-01T19:27:25.805097Z"
    }
   },
   "outputs": [
    {
     "data": {
      "text/html": [
       "\n",
       "            <style>\n",
       "                .geemap-dark {\n",
       "                    --jp-widgets-color: white;\n",
       "                    --jp-widgets-label-color: white;\n",
       "                    --jp-ui-font-color1: white;\n",
       "                    --jp-layout-color2: #454545;\n",
       "                    background-color: #383838;\n",
       "                }\n",
       "\n",
       "                .geemap-dark .jupyter-button {\n",
       "                    --jp-layout-color3: #383838;\n",
       "                }\n",
       "\n",
       "                .geemap-colab {\n",
       "                    background-color: var(--colab-primary-surface-color, white);\n",
       "                }\n",
       "\n",
       "                .geemap-colab .jupyter-button {\n",
       "                    --jp-layout-color3: var(--colab-primary-surface-color, white);\n",
       "                }\n",
       "            </style>\n",
       "            "
      ],
      "text/plain": [
       "<IPython.core.display.HTML object>"
      ]
     },
     "metadata": {},
     "output_type": "display_data"
    },
    {
     "data": {
      "application/vnd.jupyter.widget-view+json": {
       "model_id": "c61d8d4400f140b49c43e3dd7fd0ab02",
       "version_major": 2,
       "version_minor": 0
      },
      "text/plain": [
       "Map(bottom=33393.0, center=[-1.7849895078809694, 29.932265099545248], controls=(WidgetControl(options=['positi…"
      ]
     },
     "execution_count": 23,
     "metadata": {},
     "output_type": "execute_result"
    }
   ],
   "source": [
    "vis_params = {\"min\": 0, \"max\": 1, \"palette\": [\"green\", \"yellow\", \"red\"]}\n",
    "Map.addLayer(flood_risk_index, vis_params, \"Flood Risk Index\")\n",
    "Map.addLayer(drought_risk_index, vis_params, \"Drought Risk Index\")\n",
    "Map.addLayer(landslide_risk_index, vis_params, \"Landslide Risk Index\")\n",
    "\n",
    "Map.addLayer(bugesera, {\"color\": \"black\"}, \"Bugesera\")\n",
    "\n",
    "# Add district boundaries\n",
    "Map.addLayer(districts, {\"color\": \"black\"}, \"Districts\")\n",
    "\n",
    "Map"
   ]
  }
 ],
 "metadata": {
  "kernelspec": {
   "display_name": "Python 3 (ipykernel)",
   "language": "python",
   "name": "python3"
  },
  "language_info": {
   "codemirror_mode": {
    "name": "ipython",
    "version": 3
   },
   "file_extension": ".py",
   "mimetype": "text/x-python",
   "name": "python",
   "nbconvert_exporter": "python",
   "pygments_lexer": "ipython3",
   "version": "3.13.2"
  }
 },
 "nbformat": 4,
 "nbformat_minor": 5
}
