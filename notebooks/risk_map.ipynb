{
 "cells": [
  {
   "metadata": {
    "ExecuteTime": {
     "end_time": "2025-10-06T12:38:51.240548Z",
     "start_time": "2025-10-06T12:38:48.189775Z"
    }
   },
   "cell_type": "code",
   "source": [
    "import geemap\n",
    "import ee\n",
    "try:\n",
    "    ee.Authenticate()\n",
    "except Exception as e:\n",
    "    print(f\"Error authenticating Earth Engine: {e}. Please ensure you have Earth Engine access.\")\n",
    "\n",
    "try:\n",
    "    ee.Initialize(project=\"rwanda-climate-alerts\")\n",
    "except Exception as e:\n",
    "    print(f\"Error initializing Earth Engine: {e}. Please ensure you are authenticated.\")\n",
    "\n",
    "from src.geometry import districts, rwanda, rwanda_buffered\n",
    "from src.fetch_datasets import fetch_all\n",
    "\n",
    "chirps, era5_temp, soil_moist, ndvi, dem, slope = fetch_all()\n",
    "\n",
    "def aggregate_monthly(image_collection):\n",
    "    monthly_result = image_collection.map(lambda img: img.set(\"month\", img.date().format(\"YYYY-MM\")))\n",
    "    monthly_sum = monthly_result.reduce(ee.Reducer.sum())\n",
    "    return monthly_result, monthly_sum\n",
    "\n",
    "\n",
    "def calculate_baseline(image_collection):\n",
    "    # Define baseline period (e.g., 2000–2015)\n",
    "    baseline = image_collection.filterDate(\"2005-01-01\", \"2015-12-31\")\n",
    "\n",
    "    # Mean rainfall baseline\n",
    "    baseline_mean = baseline.mean()\n",
    "\n",
    "    # Recent period (e.g., 2020–2025)\n",
    "    recent = image_collection.filterDate(\"2025-07-01\", \"2025-07-31\").mean()\n",
    "\n",
    "    # Rainfall anomaly (recent vs baseline)\n",
    "    anomaly = recent.subtract(baseline_mean).divide(baseline_mean)\n",
    "\n",
    "    return baseline, baseline_mean, anomaly\n",
    "\n",
    "\n",
    "def normalize(img, region):\n",
    "    min_dict = img.reduceRegion(\n",
    "        reducer=ee.Reducer.min(),\n",
    "        geometry=region,\n",
    "        scale=1000,\n",
    "        maxPixels=1e13,\n",
    "        bestEffort=True\n",
    "    ).values().get(0)\n",
    "    max_dict = img.reduceRegion(\n",
    "        reducer=ee.Reducer.max(),\n",
    "        geometry=region,\n",
    "        scale=1000,\n",
    "        maxPixels=1e13,\n",
    "        bestEffort=True\n",
    "    ).values().get(0)\n",
    "\n",
    "    min_value = ee.Number(min_dict)\n",
    "    max_value = ee.Number(max_dict)\n",
    "\n",
    "    return img.subtract(min_value).divide(max_value.subtract(min_value))\n",
    "\n",
    "\n",
    "def aggregate_risk(risk_index):\n",
    "    district_stats = risk_index.reduceRegions(\n",
    "        collection=districts,\n",
    "        reducer=ee.Reducer.mean(),\n",
    "        scale=1000\n",
    "    )\n",
    "    return district_stats\n",
    "\n",
    "def make_map():\n",
    "    # monthly_chirps, monthly_chirps_sum = aggregate_monthly(chirps)\n",
    "    # monthly_era5_temp, monthly_era5_temp_sum = aggregate_monthly(era5_temp)\n",
    "    # monthly_soil_moist, monthly_soil_moist_sum = aggregate_monthly(soil_moist)\n",
    "    # monthly_ndvi, monthly_ndvi_sum = aggregate_monthly(ndvi)\n",
    "\n",
    "\n",
    "    rain_baseline, rain_baseline_mean, rain_anomaly = calculate_baseline(chirps)\n",
    "    temp_baseline, temp_baseline_mean, temp_anomaly = calculate_baseline(era5_temp)\n",
    "    soil_moist_baseline, soil_moist_baseline_mean, soil_moist_anomaly = calculate_baseline(soil_moist)\n",
    "    ndvi_baseline, ndvi_baseline_mean, ndvi_anomaly = calculate_baseline(ndvi)\n",
    "\n",
    "\n",
    "    rain_norm = normalize(rain_anomaly, districts)\n",
    "    temp_norm = normalize(temp_anomaly, districts)\n",
    "    soil_moist_norm = normalize(soil_moist_anomaly, districts)\n",
    "    ndvi_norm = normalize(ndvi_anomaly, districts)\n",
    "\n",
    "    dem_norm = normalize(dem, districts)\n",
    "    slope_norm = normalize(slope, districts)\n",
    "\n",
    "\n",
    "    flood_risk_index = rain_norm.multiply(0.4) \\\n",
    "                        .add(temp_norm.multiply(0.3)) \\\n",
    "                        .add(slope_norm.multiply(0.2))\n",
    "                        # .add(ndvi_norm.multiply(0.2)) \\\n",
    "\n",
    "    drought_risk_index = rain_norm.multiply(-1).add(1).multiply(0.4) \\\n",
    "                        .add(soil_moist_norm.multiply(-1).add(1).multiply(0.3)) \\\n",
    "                        .add(temp_norm.multiply(0.3))\n",
    "                        # .add(ndvi_norm.multiply(-1).add(1).multiply(0.2)) \\\n",
    "    # NDVI is causing some trouble, still in the process of figuring it out\n",
    "\n",
    "    landslide_risk_index = rain_norm.multiply(0.4) \\\n",
    "                            .add(soil_moist_norm.multiply(0.3)) \\\n",
    "                            .add(slope_norm.multiply(0.3))\n",
    "\n",
    "\n",
    "    # flood_risk_stats = aggregate_risk(flood_risk_index)\n",
    "    # drought_risk_stats = aggregate_risk(drought_risk_index)\n",
    "    # landslide_risk_stats = aggregate_risk(landslide_risk_index)\n",
    "\n",
    "\n",
    "    Map = geemap.Map()\n",
    "    Map.centerObject(districts, 7)\n",
    "\n",
    "    vis_params = {\"min\": 0, \"max\": 1, \"palette\": [\"green\", \"yellow\", \"red\"]}\n",
    "    Map.addLayer(flood_risk_index, vis_params, \"Flood Risk Index\")\n",
    "    Map.addLayer(drought_risk_index, vis_params, \"Drought Risk Index\")\n",
    "    Map.addLayer(landslide_risk_index, vis_params, \"Landslide Risk Index\")\n",
    "\n",
    "    # Add district boundaries\n",
    "    Map.addLayer(districts, {\"color\": \"black\"}, \"Districts\")\n",
    "\n",
    "    # map.save(\"map.html\")\n",
    "    return Map, flood_risk_index, drought_risk_index, landslide_risk_index"
   ],
   "id": "4dfcb133a6ca2df9",
   "outputs": [
    {
     "data": {
      "text/plain": [
       "<IPython.core.display.HTML object>"
      ],
      "text/html": [
       "\n",
       "            <style>\n",
       "                .geemap-dark {\n",
       "                    --jp-widgets-color: white;\n",
       "                    --jp-widgets-label-color: white;\n",
       "                    --jp-ui-font-color1: white;\n",
       "                    --jp-layout-color2: #454545;\n",
       "                    background-color: #383838;\n",
       "                }\n",
       "\n",
       "                .geemap-dark .jupyter-button {\n",
       "                    --jp-layout-color3: #383838;\n",
       "                }\n",
       "\n",
       "                .geemap-colab {\n",
       "                    background-color: var(--colab-primary-surface-color, white);\n",
       "                }\n",
       "\n",
       "                .geemap-colab .jupyter-button {\n",
       "                    --jp-layout-color3: var(--colab-primary-surface-color, white);\n",
       "                }\n",
       "            </style>\n",
       "            "
      ]
     },
     "metadata": {},
     "output_type": "display_data",
     "jetTransient": {
      "display_id": null
     }
    }
   ],
   "execution_count": 4
  },
  {
   "metadata": {
    "ExecuteTime": {
     "end_time": "2025-10-06T12:39:03.630149Z",
     "start_time": "2025-10-06T12:38:53.416423Z"
    }
   },
   "cell_type": "code",
   "source": [
    "Map, flood_risk_index, drought_risk_index, landslide_risk_index = make_map()\n",
    "print(type(flood_risk_index))\n",
    "print(type(drought_risk_index))\n",
    "print(type(landslide_risk_index))\n",
    "Map"
   ],
   "id": "a1289461593e874d",
   "outputs": [
    {
     "data": {
      "text/plain": [
       "<IPython.core.display.HTML object>"
      ],
      "text/html": [
       "\n",
       "            <style>\n",
       "                .geemap-dark {\n",
       "                    --jp-widgets-color: white;\n",
       "                    --jp-widgets-label-color: white;\n",
       "                    --jp-ui-font-color1: white;\n",
       "                    --jp-layout-color2: #454545;\n",
       "                    background-color: #383838;\n",
       "                }\n",
       "\n",
       "                .geemap-dark .jupyter-button {\n",
       "                    --jp-layout-color3: #383838;\n",
       "                }\n",
       "\n",
       "                .geemap-colab {\n",
       "                    background-color: var(--colab-primary-surface-color, white);\n",
       "                }\n",
       "\n",
       "                .geemap-colab .jupyter-button {\n",
       "                    --jp-layout-color3: var(--colab-primary-surface-color, white);\n",
       "                }\n",
       "            </style>\n",
       "            "
      ]
     },
     "metadata": {},
     "output_type": "display_data",
     "jetTransient": {
      "display_id": null
     }
    },
    {
     "name": "stdout",
     "output_type": "stream",
     "text": [
      "<class 'ee.image.Image'>\n",
      "<class 'ee.image.Image'>\n",
      "<class 'ee.image.Image'>\n"
     ]
    },
    {
     "data": {
      "text/plain": [
       "Map(center=[-1.9997982650392554, 29.923244439439625], controls=(WidgetControl(options=['position', 'transparen…"
      ],
      "application/vnd.jupyter.widget-view+json": {
       "version_major": 2,
       "version_minor": 0,
       "model_id": "c36b2ef9951a47bb9c955d8f5df3a248"
      }
     },
     "execution_count": 5,
     "metadata": {},
     "output_type": "execute_result"
    }
   ],
   "execution_count": 5
  }
 ],
 "metadata": {
  "kernelspec": {
   "name": "python3",
   "language": "python",
   "display_name": "Python 3 (ipykernel)"
  }
 },
 "nbformat": 4,
 "nbformat_minor": 5
}
