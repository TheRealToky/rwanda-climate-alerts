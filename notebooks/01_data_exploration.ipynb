{
 "cells": [
  {
   "cell_type": "markdown",
   "id": "7be5ab36441ca2e0",
   "metadata": {
    "jp-MarkdownHeadingCollapsed": true
   },
   "source": [
    "# Imports and Pre-requisites"
   ]
  },
  {
   "cell_type": "code",
   "id": "initial_id",
   "metadata": {
    "ExecuteTime": {
     "end_time": "2025-09-28T23:39:02.246036Z",
     "start_time": "2025-09-28T23:39:02.240285Z"
    }
   },
   "source": [
    "import ee\n",
    "import geemap\n",
    "import pandas as pd\n",
    "import numpy as np\n",
    "import matplotlib.pyplot as plt\n",
    "from datetime import date, timedelta, datetime"
   ],
   "outputs": [
    {
     "data": {
      "text/plain": [
       "<IPython.core.display.HTML object>"
      ],
      "text/html": [
       "\n",
       "            <style>\n",
       "                .geemap-dark {\n",
       "                    --jp-widgets-color: white;\n",
       "                    --jp-widgets-label-color: white;\n",
       "                    --jp-ui-font-color1: white;\n",
       "                    --jp-layout-color2: #454545;\n",
       "                    background-color: #383838;\n",
       "                }\n",
       "\n",
       "                .geemap-dark .jupyter-button {\n",
       "                    --jp-layout-color3: #383838;\n",
       "                }\n",
       "\n",
       "                .geemap-colab {\n",
       "                    background-color: var(--colab-primary-surface-color, white);\n",
       "                }\n",
       "\n",
       "                .geemap-colab .jupyter-button {\n",
       "                    --jp-layout-color3: var(--colab-primary-surface-color, white);\n",
       "                }\n",
       "            </style>\n",
       "            "
      ]
     },
     "metadata": {},
     "output_type": "display_data",
     "jetTransient": {
      "display_id": null
     }
    }
   ],
   "execution_count": 39
  },
  {
   "cell_type": "code",
   "id": "c00b6e108e21415b",
   "metadata": {
    "ExecuteTime": {
     "end_time": "2025-09-28T23:39:03.600929Z",
     "start_time": "2025-09-28T23:39:02.260147Z"
    }
   },
   "source": [
    "ee.Authenticate()"
   ],
   "outputs": [
    {
     "data": {
      "text/plain": [
       "<IPython.core.display.HTML object>"
      ],
      "text/html": [
       "\n",
       "            <style>\n",
       "                .geemap-dark {\n",
       "                    --jp-widgets-color: white;\n",
       "                    --jp-widgets-label-color: white;\n",
       "                    --jp-ui-font-color1: white;\n",
       "                    --jp-layout-color2: #454545;\n",
       "                    background-color: #383838;\n",
       "                }\n",
       "\n",
       "                .geemap-dark .jupyter-button {\n",
       "                    --jp-layout-color3: #383838;\n",
       "                }\n",
       "\n",
       "                .geemap-colab {\n",
       "                    background-color: var(--colab-primary-surface-color, white);\n",
       "                }\n",
       "\n",
       "                .geemap-colab .jupyter-button {\n",
       "                    --jp-layout-color3: var(--colab-primary-surface-color, white);\n",
       "                }\n",
       "            </style>\n",
       "            "
      ]
     },
     "metadata": {},
     "output_type": "display_data",
     "jetTransient": {
      "display_id": null
     }
    },
    {
     "data": {
      "text/plain": [
       "True"
      ]
     },
     "execution_count": 40,
     "metadata": {},
     "output_type": "execute_result"
    }
   ],
   "execution_count": 40
  },
  {
   "cell_type": "code",
   "id": "c07c2f302bf45a50",
   "metadata": {
    "ExecuteTime": {
     "end_time": "2025-09-28T23:39:06.399668Z",
     "start_time": "2025-09-28T23:39:03.610801Z"
    }
   },
   "source": [
    "ee.Initialize(project=\"rwanda-climate-alerts\")"
   ],
   "outputs": [
    {
     "data": {
      "text/plain": [
       "<IPython.core.display.HTML object>"
      ],
      "text/html": [
       "\n",
       "            <style>\n",
       "                .geemap-dark {\n",
       "                    --jp-widgets-color: white;\n",
       "                    --jp-widgets-label-color: white;\n",
       "                    --jp-ui-font-color1: white;\n",
       "                    --jp-layout-color2: #454545;\n",
       "                    background-color: #383838;\n",
       "                }\n",
       "\n",
       "                .geemap-dark .jupyter-button {\n",
       "                    --jp-layout-color3: #383838;\n",
       "                }\n",
       "\n",
       "                .geemap-colab {\n",
       "                    background-color: var(--colab-primary-surface-color, white);\n",
       "                }\n",
       "\n",
       "                .geemap-colab .jupyter-button {\n",
       "                    --jp-layout-color3: var(--colab-primary-surface-color, white);\n",
       "                }\n",
       "            </style>\n",
       "            "
      ]
     },
     "metadata": {},
     "output_type": "display_data",
     "jetTransient": {
      "display_id": null
     }
    }
   ],
   "execution_count": 41
  },
  {
   "cell_type": "markdown",
   "id": "e418c07284d8d2cc",
   "metadata": {},
   "source": [
    "# Collect Datasets"
   ]
  },
  {
   "cell_type": "markdown",
   "id": "7c6ff2d4bfb9c271",
   "metadata": {},
   "source": [
    "## Baseline setup\n",
    "In this section, we will define the\n",
    "- baseline area of interest: polygon covering Rwanda\n",
    "- drought/flood years"
   ]
  },
  {
   "cell_type": "code",
   "id": "3ddcb79cbd07325e",
   "metadata": {
    "jupyter": {
     "source_hidden": true
    },
    "ExecuteTime": {
     "end_time": "2025-09-28T23:39:06.412500Z",
     "start_time": "2025-09-28T23:39:06.406575Z"
    }
   },
   "source": [
    "# drought_years = [\n",
    "#     \"1984-10-01\",\n",
    "#     \"1989-12-01\",\n",
    "#     \"1996-01-01\",\n",
    "#     \"1999-11-01\",\n",
    "#     \"2000-01-01\",  # \"Early 2000\"\n",
    "#     \"2003-03-01\",\n",
    "#     \"2005-02-01\",\n",
    "#     \"2006-03-01\",\n",
    "#     \"2006-09-01\",\n",
    "#     \"2014-06-01\"\n",
    "# ]\n",
    "#\n",
    "# # Flood dates\n",
    "# flood_years = [\n",
    "#     \"1988-05-06\",\n",
    "#     \"2000-11-21\",\n",
    "#     \"2001-09-22\",\n",
    "#     \"2001-10-30\",\n",
    "#     \"2002-04-26\",\n",
    "#     \"2003-10-30\",\n",
    "#     \"2005-08-16\"\n",
    "# ]"
   ],
   "outputs": [
    {
     "data": {
      "text/plain": [
       "<IPython.core.display.HTML object>"
      ],
      "text/html": [
       "\n",
       "            <style>\n",
       "                .geemap-dark {\n",
       "                    --jp-widgets-color: white;\n",
       "                    --jp-widgets-label-color: white;\n",
       "                    --jp-ui-font-color1: white;\n",
       "                    --jp-layout-color2: #454545;\n",
       "                    background-color: #383838;\n",
       "                }\n",
       "\n",
       "                .geemap-dark .jupyter-button {\n",
       "                    --jp-layout-color3: #383838;\n",
       "                }\n",
       "\n",
       "                .geemap-colab {\n",
       "                    background-color: var(--colab-primary-surface-color, white);\n",
       "                }\n",
       "\n",
       "                .geemap-colab .jupyter-button {\n",
       "                    --jp-layout-color3: var(--colab-primary-surface-color, white);\n",
       "                }\n",
       "            </style>\n",
       "            "
      ]
     },
     "metadata": {},
     "output_type": "display_data",
     "jetTransient": {
      "display_id": null
     }
    }
   ],
   "execution_count": 42
  },
  {
   "cell_type": "code",
   "id": "cf82998af56f4c09",
   "metadata": {
    "jupyter": {
     "source_hidden": true
    },
    "ExecuteTime": {
     "end_time": "2025-09-28T23:39:06.426211Z",
     "start_time": "2025-09-28T23:39:06.420622Z"
    }
   },
   "source": [
    "# Convert date string to date format\n",
    "def str_to_date_range(date_string, date_format):\n",
    "    initial_date = datetime.strptime(date_string, date_format)\n",
    "\n",
    "    two_weeks_early_date = initial_date - timedelta(weeks=2)\n",
    "    two_weeks_later_date = initial_date + timedelta(weeks=2)\n",
    "\n",
    "    return two_weeks_early_date, two_weeks_later_date\n",
    "\n",
    "# date_1, date_2 = str_to_date_range(\"1970-01-01\", \"%Y-%m-%d\")\n",
    "# print(date_1, date_2)\n",
    "\n",
    "def date_range_to_list(date_list):\n",
    "    date_range_list = []\n",
    "\n",
    "    for flood_date in date_list:\n",
    "        date_range_0, date_range_1 = str_to_date_range(flood_date, \"%Y-%m-%d\")\n",
    "        date_range_list.append([date_range_0, date_range_1])\n",
    "\n",
    "    return date_range_list\n",
    "\n",
    "flood_dates_range = []\n",
    "\n",
    "for flood_range in flood_dates_range:\n",
    "    print(flood_range[0], flood_range[1])"
   ],
   "outputs": [
    {
     "data": {
      "text/plain": [
       "<IPython.core.display.HTML object>"
      ],
      "text/html": [
       "\n",
       "            <style>\n",
       "                .geemap-dark {\n",
       "                    --jp-widgets-color: white;\n",
       "                    --jp-widgets-label-color: white;\n",
       "                    --jp-ui-font-color1: white;\n",
       "                    --jp-layout-color2: #454545;\n",
       "                    background-color: #383838;\n",
       "                }\n",
       "\n",
       "                .geemap-dark .jupyter-button {\n",
       "                    --jp-layout-color3: #383838;\n",
       "                }\n",
       "\n",
       "                .geemap-colab {\n",
       "                    background-color: var(--colab-primary-surface-color, white);\n",
       "                }\n",
       "\n",
       "                .geemap-colab .jupyter-button {\n",
       "                    --jp-layout-color3: var(--colab-primary-surface-color, white);\n",
       "                }\n",
       "            </style>\n",
       "            "
      ]
     },
     "metadata": {},
     "output_type": "display_data",
     "jetTransient": {
      "display_id": null
     }
    }
   ],
   "execution_count": 43
  },
  {
   "cell_type": "code",
   "id": "799d97305c3da35",
   "metadata": {
    "ExecuteTime": {
     "end_time": "2025-09-28T23:39:06.437448Z",
     "start_time": "2025-09-28T23:39:06.432582Z"
    }
   },
   "source": [
    "aoi = ee.Geometry.Polygon([\n",
    "    [\n",
    "        [28.70, -2.85],\n",
    "        [31.00, -2.85],\n",
    "        [31.00, -1.00],\n",
    "        [28.70, -1.00]\n",
    "    ]\n",
    "])\n",
    "\n",
    "# Drought dates\n",
    "drought_years = [\"1984\", \"1989\", \"1996\", \"1999\", \"2000\", \"2003\", \"2005\", \"2006\", \"2006\", \"2014\"]\n",
    "\n",
    "# Flood dates\n",
    "flood_years = [\"1988\", \"2000\", \"2001\", \"2001\", \"2002\", \"2003\", \"2005\"]"
   ],
   "outputs": [
    {
     "data": {
      "text/plain": [
       "<IPython.core.display.HTML object>"
      ],
      "text/html": [
       "\n",
       "            <style>\n",
       "                .geemap-dark {\n",
       "                    --jp-widgets-color: white;\n",
       "                    --jp-widgets-label-color: white;\n",
       "                    --jp-ui-font-color1: white;\n",
       "                    --jp-layout-color2: #454545;\n",
       "                    background-color: #383838;\n",
       "                }\n",
       "\n",
       "                .geemap-dark .jupyter-button {\n",
       "                    --jp-layout-color3: #383838;\n",
       "                }\n",
       "\n",
       "                .geemap-colab {\n",
       "                    background-color: var(--colab-primary-surface-color, white);\n",
       "                }\n",
       "\n",
       "                .geemap-colab .jupyter-button {\n",
       "                    --jp-layout-color3: var(--colab-primary-surface-color, white);\n",
       "                }\n",
       "            </style>\n",
       "            "
      ]
     },
     "metadata": {},
     "output_type": "display_data",
     "jetTransient": {
      "display_id": null
     }
    }
   ],
   "execution_count": 44
  },
  {
   "cell_type": "markdown",
   "id": "e2447693-cdc0-4c1b-bd90-b27ad11093aa",
   "metadata": {},
   "source": [
    "## Fetch Datasets"
   ]
  },
  {
   "metadata": {
    "ExecuteTime": {
     "end_time": "2025-09-28T23:51:27.391048Z",
     "start_time": "2025-09-28T23:51:24.921257Z"
    }
   },
   "cell_type": "code",
   "source": [
    "# Create map\n",
    "Map = geemap.Map()\n",
    "\n",
    "districts = ee.FeatureCollection(\"FAO/GAUL/2015/level2\") \\\n",
    "                .filter(ee.Filter.eq(\"ADM0_NAME\", \"Rwanda\")) \\\n",
    "                .map(lambda feature: feature.geometry())\n",
    "\n",
    "Map.addLayer(districts, {}, \"Rwanda Districts\")\n",
    "Map.centerObject(districts, 7)"
   ],
   "id": "3d871fd4f7567eb8",
   "outputs": [
    {
     "data": {
      "text/plain": [
       "<IPython.core.display.HTML object>"
      ],
      "text/html": [
       "\n",
       "            <style>\n",
       "                .geemap-dark {\n",
       "                    --jp-widgets-color: white;\n",
       "                    --jp-widgets-label-color: white;\n",
       "                    --jp-ui-font-color1: white;\n",
       "                    --jp-layout-color2: #454545;\n",
       "                    background-color: #383838;\n",
       "                }\n",
       "\n",
       "                .geemap-dark .jupyter-button {\n",
       "                    --jp-layout-color3: #383838;\n",
       "                }\n",
       "\n",
       "                .geemap-colab {\n",
       "                    background-color: var(--colab-primary-surface-color, white);\n",
       "                }\n",
       "\n",
       "                .geemap-colab .jupyter-button {\n",
       "                    --jp-layout-color3: var(--colab-primary-surface-color, white);\n",
       "                }\n",
       "            </style>\n",
       "            "
      ]
     },
     "metadata": {},
     "output_type": "display_data",
     "jetTransient": {
      "display_id": null
     }
    }
   ],
   "execution_count": 65
  },
  {
   "cell_type": "code",
   "id": "b52825b7c4245a3a",
   "metadata": {
    "ExecuteTime": {
     "end_time": "2025-09-28T23:51:27.814255Z",
     "start_time": "2025-09-28T23:51:27.799904Z"
    }
   },
   "source": [
    "# CHIRPS Daily Rainfall (mm/day)\n",
    "chirps = ee.ImageCollection('UCSB-CHG/CHIRPS/DAILY')\\\n",
    "            .filterDate(\"2001-01-01\", \"2025-08-01\")\\\n",
    "            .filterBounds(districts) \\\n",
    "            .map(lambda img: img.clip(districts))\n",
    "\n",
    "# ERA5 Land Monthly Temperature\n",
    "era5_temp = ee.ImageCollection(\"ECMWF/ERA5_LAND/MONTHLY_AGGR\") \\\n",
    "                .select(\"temperature_2m\") \\\n",
    "                .filterDate(\"2001-01-01\", \"2025-08-01\") \\\n",
    "                .filterBounds(districts) \\\n",
    "                .map(lambda img: img.clip(districts))\n",
    "\n",
    "# Soil Moisture (ERA5 Land)\n",
    "soil_moist = ee.ImageCollection(\"ECMWF/ERA5_LAND/MONTHLY_AGGR\") \\\n",
    "                .select(\"volumetric_soil_water_layer_1\") \\\n",
    "                .filterDate(\"2001-01-01\", \"2025-08-01\") \\\n",
    "                .filterBounds(districts) \\\n",
    "                .map(lambda img: img.clip(districts))\n",
    "\n",
    "# MODIS NDVI (monthly, 250 m)\n",
    "ndvi = ee.ImageCollection(\"MODIS/006/MOD13A1\") \\\n",
    "            .select(\"NDVI\") \\\n",
    "            .filterDate(\"2001-01-01\", \"2025-08-01\") \\\n",
    "            .filterBounds(districts) \\\n",
    "            .map(lambda img: img.clip(districts))\n",
    "\n",
    "# ESA WorldCover 2020 (10 m)\n",
    "landcover = ee.Image(\"ESA/WorldCover/v200/2022\").clip(districts)\n",
    "\n",
    "# DEM (SRTM ~30m resolution)\n",
    "dem = ee.Image(\"USGS/SRTMGL1_003\").clip(districts)\n",
    "\n",
    "# Calculate slope (degrees)\n",
    "slope = ee.Terrain.slope(dem)\n",
    "\n",
    "\n",
    "# MODIS Land Cover (optional, for time series)\n",
    "modis_lc = ee.ImageCollection(\"MODIS/006/MCD12Q1\") \\\n",
    "                .select(\"LC_Type1\") \\\n",
    "                .filterDate(\"2001-01-01\", \"2020-12-31\") \\\n",
    "                .filterBounds(districts) \\\n",
    "                .map(lambda img: img.clip(districts))"
   ],
   "outputs": [
    {
     "data": {
      "text/plain": [
       "<IPython.core.display.HTML object>"
      ],
      "text/html": [
       "\n",
       "            <style>\n",
       "                .geemap-dark {\n",
       "                    --jp-widgets-color: white;\n",
       "                    --jp-widgets-label-color: white;\n",
       "                    --jp-ui-font-color1: white;\n",
       "                    --jp-layout-color2: #454545;\n",
       "                    background-color: #383838;\n",
       "                }\n",
       "\n",
       "                .geemap-dark .jupyter-button {\n",
       "                    --jp-layout-color3: #383838;\n",
       "                }\n",
       "\n",
       "                .geemap-colab {\n",
       "                    background-color: var(--colab-primary-surface-color, white);\n",
       "                }\n",
       "\n",
       "                .geemap-colab .jupyter-button {\n",
       "                    --jp-layout-color3: var(--colab-primary-surface-color, white);\n",
       "                }\n",
       "            </style>\n",
       "            "
      ]
     },
     "metadata": {},
     "output_type": "display_data",
     "jetTransient": {
      "display_id": null
     }
    }
   ],
   "execution_count": 66
  },
  {
   "metadata": {},
   "cell_type": "markdown",
   "source": "## Aggregate monthly",
   "id": "3539ad3c717a9600"
  },
  {
   "metadata": {
    "ExecuteTime": {
     "end_time": "2025-09-28T23:51:29.007062Z",
     "start_time": "2025-09-28T23:51:28.998300Z"
    }
   },
   "cell_type": "code",
   "source": [
    "def aggregate_monthly(image_collection):\n",
    "    monthly_result = image_collection.map(lambda img: img.set(\"month\", img.date().format(\"YYYY-MM\")))\n",
    "    monthly_sum = monthly_result.reduce(ee.Reducer.sum())\n",
    "    return monthly_result, monthly_sum\n",
    "\n",
    "monthly_chirps, monthly_chirps_sum = aggregate_monthly(chirps)\n",
    "monthly_era5_temp, monthly_era5_temp_sum = aggregate_monthly(era5_temp)\n",
    "monthly_soil_moist, monthly_soil_moist_sum = aggregate_monthly(soil_moist)\n",
    "monthly_ndvi, monthly_ndvi_sum = aggregate_monthly(ndvi)"
   ],
   "id": "1b56d073230de168",
   "outputs": [
    {
     "data": {
      "text/plain": [
       "<IPython.core.display.HTML object>"
      ],
      "text/html": [
       "\n",
       "            <style>\n",
       "                .geemap-dark {\n",
       "                    --jp-widgets-color: white;\n",
       "                    --jp-widgets-label-color: white;\n",
       "                    --jp-ui-font-color1: white;\n",
       "                    --jp-layout-color2: #454545;\n",
       "                    background-color: #383838;\n",
       "                }\n",
       "\n",
       "                .geemap-dark .jupyter-button {\n",
       "                    --jp-layout-color3: #383838;\n",
       "                }\n",
       "\n",
       "                .geemap-colab {\n",
       "                    background-color: var(--colab-primary-surface-color, white);\n",
       "                }\n",
       "\n",
       "                .geemap-colab .jupyter-button {\n",
       "                    --jp-layout-color3: var(--colab-primary-surface-color, white);\n",
       "                }\n",
       "            </style>\n",
       "            "
      ]
     },
     "metadata": {},
     "output_type": "display_data",
     "jetTransient": {
      "display_id": null
     }
    }
   ],
   "execution_count": 67
  },
  {
   "metadata": {},
   "cell_type": "markdown",
   "source": "## Calculate historical baseline and anomalies",
   "id": "f784a126d6af3e3a"
  },
  {
   "metadata": {
    "ExecuteTime": {
     "end_time": "2025-09-28T23:51:30.941991Z",
     "start_time": "2025-09-28T23:51:30.934772Z"
    }
   },
   "cell_type": "code",
   "source": [
    "def calculate_baseline(image_collection):\n",
    "    # Define baseline period (e.g., 2000–2015)\n",
    "    baseline = image_collection.filterDate(\"2001-01-01\", \"2015-12-31\")\n",
    "\n",
    "    # Mean rainfall baseline\n",
    "    baseline_mean = baseline.mean()\n",
    "\n",
    "    # Recent period (e.g., 2020–2025)\n",
    "    recent = image_collection.filterDate(\"2025-07-01\", \"2025-08-01\").mean()\n",
    "\n",
    "    # Rainfall anomaly (recent vs baseline)\n",
    "    anomaly = recent.subtract(baseline_mean).divide(baseline_mean)\n",
    "\n",
    "    return baseline, baseline_mean, anomaly\n",
    "\n",
    "rain_baseline, rain_baseline_mean, rain_anomaly = calculate_baseline(chirps)\n",
    "temp_baseline, temp_baseline_mean, temp_anomaly = calculate_baseline(era5_temp)\n",
    "soil_moist_baseline, soil_moist_baseline_mean, soil_moist_anomaly = calculate_baseline(soil_moist)\n",
    "ndvi_baseline, ndvi_baseline_mean, ndvi_anomaly = calculate_baseline(ndvi)"
   ],
   "id": "7885be1482ce828c",
   "outputs": [
    {
     "data": {
      "text/plain": [
       "<IPython.core.display.HTML object>"
      ],
      "text/html": [
       "\n",
       "            <style>\n",
       "                .geemap-dark {\n",
       "                    --jp-widgets-color: white;\n",
       "                    --jp-widgets-label-color: white;\n",
       "                    --jp-ui-font-color1: white;\n",
       "                    --jp-layout-color2: #454545;\n",
       "                    background-color: #383838;\n",
       "                }\n",
       "\n",
       "                .geemap-dark .jupyter-button {\n",
       "                    --jp-layout-color3: #383838;\n",
       "                }\n",
       "\n",
       "                .geemap-colab {\n",
       "                    background-color: var(--colab-primary-surface-color, white);\n",
       "                }\n",
       "\n",
       "                .geemap-colab .jupyter-button {\n",
       "                    --jp-layout-color3: var(--colab-primary-surface-color, white);\n",
       "                }\n",
       "            </style>\n",
       "            "
      ]
     },
     "metadata": {},
     "output_type": "display_data",
     "jetTransient": {
      "display_id": null
     }
    }
   ],
   "execution_count": 68
  },
  {
   "metadata": {},
   "cell_type": "markdown",
   "source": "## Normalize indices (0-1)",
   "id": "158463ab3dfeedec"
  },
  {
   "metadata": {
    "ExecuteTime": {
     "end_time": "2025-09-28T23:51:34.695800Z",
     "start_time": "2025-09-28T23:51:34.687859Z"
    }
   },
   "cell_type": "code",
   "source": [
    "def normalize(img, region):\n",
    "    min_value = img.reduceRegion(\n",
    "        reducer=ee.Reducer.min(),\n",
    "        geometry=region,\n",
    "        scale=1000,\n",
    "        maxPixels=1e13\n",
    "    )\n",
    "    max_value = img.reduceRegion(\n",
    "        reducer=ee.Reducer.max(),\n",
    "        geometry=region,\n",
    "        scale=1000,\n",
    "        maxPixels=1e13\n",
    "    )\n",
    "\n",
    "    return img.subtract(min_value).divide(ee.Number(max_value).subtract(min_value))\n",
    "\n",
    "rain_norm = normalize(rain_anomaly, districts)\n",
    "temp_norm = normalize(temp_anomaly, districts)\n",
    "soil_moist_norm = normalize(soil_moist_anomaly, districts)\n",
    "ndvi_norm = normalize(ndvi_anomaly, districts)\n",
    "\n",
    "dem_norm = normalize(dem, districts)\n",
    "slope_norm = normalize(slope, districts)"
   ],
   "id": "6c5058cf84b13ac0",
   "outputs": [
    {
     "data": {
      "text/plain": [
       "<IPython.core.display.HTML object>"
      ],
      "text/html": [
       "\n",
       "            <style>\n",
       "                .geemap-dark {\n",
       "                    --jp-widgets-color: white;\n",
       "                    --jp-widgets-label-color: white;\n",
       "                    --jp-ui-font-color1: white;\n",
       "                    --jp-layout-color2: #454545;\n",
       "                    background-color: #383838;\n",
       "                }\n",
       "\n",
       "                .geemap-dark .jupyter-button {\n",
       "                    --jp-layout-color3: #383838;\n",
       "                }\n",
       "\n",
       "                .geemap-colab {\n",
       "                    background-color: var(--colab-primary-surface-color, white);\n",
       "                }\n",
       "\n",
       "                .geemap-colab .jupyter-button {\n",
       "                    --jp-layout-color3: var(--colab-primary-surface-color, white);\n",
       "                }\n",
       "            </style>\n",
       "            "
      ]
     },
     "metadata": {},
     "output_type": "display_data",
     "jetTransient": {
      "display_id": null
     }
    }
   ],
   "execution_count": 69
  },
  {
   "metadata": {},
   "cell_type": "markdown",
   "source": "## Cobine risk indexes",
   "id": "be2099f1a797eea6"
  },
  {
   "metadata": {
    "ExecuteTime": {
     "end_time": "2025-09-29T00:00:13.837073Z",
     "start_time": "2025-09-29T00:00:13.829691Z"
    }
   },
   "cell_type": "code",
   "source": [
    "flood_risk_index = rain_norm.multiply(0.5) \\\n",
    "                    .add(temp_norm.multiply(0.25)) \\\n",
    "                    .add(ndvi_norm.multiply(0.25)) \\\n",
    "                    .add(slope_norm.multiply(0.2))\n",
    "\n",
    "drought_risk_index = rain_norm.multiply(0.4) \\\n",
    "                    .add(soil_moist_norm.multiply(0.4)) \\\n",
    "                    .add(ndvi_norm.multiply(0.2))\n",
    "\n",
    "landslide_risk_index = rain_norm.multiply(0.4) \\\n",
    "                        .add(soil_moist_norm.multiply(0.4)) \\\n",
    "                        .add(slope_norm.multiply(0.2))"
   ],
   "id": "1eb11a81a6a7a416",
   "outputs": [
    {
     "data": {
      "text/plain": [
       "<IPython.core.display.HTML object>"
      ],
      "text/html": [
       "\n",
       "            <style>\n",
       "                .geemap-dark {\n",
       "                    --jp-widgets-color: white;\n",
       "                    --jp-widgets-label-color: white;\n",
       "                    --jp-ui-font-color1: white;\n",
       "                    --jp-layout-color2: #454545;\n",
       "                    background-color: #383838;\n",
       "                }\n",
       "\n",
       "                .geemap-dark .jupyter-button {\n",
       "                    --jp-layout-color3: #383838;\n",
       "                }\n",
       "\n",
       "                .geemap-colab {\n",
       "                    background-color: var(--colab-primary-surface-color, white);\n",
       "                }\n",
       "\n",
       "                .geemap-colab .jupyter-button {\n",
       "                    --jp-layout-color3: var(--colab-primary-surface-color, white);\n",
       "                }\n",
       "            </style>\n",
       "            "
      ]
     },
     "metadata": {},
     "output_type": "display_data",
     "jetTransient": {
      "display_id": null
     }
    }
   ],
   "execution_count": 78
  },
  {
   "metadata": {},
   "cell_type": "markdown",
   "source": "## Aggregate risk by district",
   "id": "109112cd33e79535"
  },
  {
   "metadata": {
    "ExecuteTime": {
     "end_time": "2025-09-28T23:56:13.929043Z",
     "start_time": "2025-09-28T23:56:11.407859Z"
    }
   },
   "cell_type": "code",
   "source": [
    "def aggregate_risk(risk_index):\n",
    "    district_stats = risk_index.reduceRegions(\n",
    "        collection=districts,\n",
    "        reducer=ee.Reducer.mean(),\n",
    "        scale=1000\n",
    "    )\n",
    "    return district_stats\n",
    "\n",
    "flood_risk_stats = aggregate_risk(flood_risk_index)\n",
    "drought_risk_stats = aggregate_risk(drought_risk_index)\n",
    "landslide_risk_stats = aggregate_risk(landslide_risk_index)\n",
    "\n",
    "# Print first feature\n",
    "print(flood_risk_stats.first().getInfo())"
   ],
   "id": "62ba138cde91c888",
   "outputs": [
    {
     "data": {
      "text/plain": [
       "<IPython.core.display.HTML object>"
      ],
      "text/html": [
       "\n",
       "            <style>\n",
       "                .geemap-dark {\n",
       "                    --jp-widgets-color: white;\n",
       "                    --jp-widgets-label-color: white;\n",
       "                    --jp-ui-font-color1: white;\n",
       "                    --jp-layout-color2: #454545;\n",
       "                    background-color: #383838;\n",
       "                }\n",
       "\n",
       "                .geemap-dark .jupyter-button {\n",
       "                    --jp-layout-color3: #383838;\n",
       "                }\n",
       "\n",
       "                .geemap-colab {\n",
       "                    background-color: var(--colab-primary-surface-color, white);\n",
       "                }\n",
       "\n",
       "                .geemap-colab .jupyter-button {\n",
       "                    --jp-layout-color3: var(--colab-primary-surface-color, white);\n",
       "                }\n",
       "            </style>\n",
       "            "
      ]
     },
     "metadata": {},
     "output_type": "display_data",
     "jetTransient": {
      "display_id": null
     }
    },
    {
     "ename": "EEException",
     "evalue": "Image.subtract, argument 'image2': Invalid type.\nExpected type: Image<unknown bands>.\nActual type: Dictionary<Float>.\nActual value: {precipitation=-0.9888367602330774}",
     "output_type": "error",
     "traceback": [
      "\u001B[31m---------------------------------------------------------------------------\u001B[39m",
      "\u001B[31mHttpError\u001B[39m                                 Traceback (most recent call last)",
      "\u001B[36mFile \u001B[39m\u001B[32mD:\\PC DISAINE\\toky\\ALU\\Others\\rwanda-climate-alerts\\.venv\\Lib\\site-packages\\ee\\data.py:404\u001B[39m, in \u001B[36m_execute_cloud_call\u001B[39m\u001B[34m(call, num_retries)\u001B[39m\n\u001B[32m    403\u001B[39m \u001B[38;5;28;01mtry\u001B[39;00m:\n\u001B[32m--> \u001B[39m\u001B[32m404\u001B[39m   \u001B[38;5;28;01mreturn\u001B[39;00m \u001B[43mcall\u001B[49m\u001B[43m.\u001B[49m\u001B[43mexecute\u001B[49m\u001B[43m(\u001B[49m\u001B[43mnum_retries\u001B[49m\u001B[43m=\u001B[49m\u001B[43mnum_retries\u001B[49m\u001B[43m)\u001B[49m\n\u001B[32m    405\u001B[39m \u001B[38;5;28;01mexcept\u001B[39;00m googleapiclient.errors.HttpError \u001B[38;5;28;01mas\u001B[39;00m e:\n",
      "\u001B[36mFile \u001B[39m\u001B[32mD:\\PC DISAINE\\toky\\ALU\\Others\\rwanda-climate-alerts\\.venv\\Lib\\site-packages\\googleapiclient\\_helpers.py:130\u001B[39m, in \u001B[36mpositional.<locals>.positional_decorator.<locals>.positional_wrapper\u001B[39m\u001B[34m(*args, **kwargs)\u001B[39m\n\u001B[32m    129\u001B[39m         logger.warning(message)\n\u001B[32m--> \u001B[39m\u001B[32m130\u001B[39m \u001B[38;5;28;01mreturn\u001B[39;00m \u001B[43mwrapped\u001B[49m\u001B[43m(\u001B[49m\u001B[43m*\u001B[49m\u001B[43margs\u001B[49m\u001B[43m,\u001B[49m\u001B[43m \u001B[49m\u001B[43m*\u001B[49m\u001B[43m*\u001B[49m\u001B[43mkwargs\u001B[49m\u001B[43m)\u001B[49m\n",
      "\u001B[36mFile \u001B[39m\u001B[32mD:\\PC DISAINE\\toky\\ALU\\Others\\rwanda-climate-alerts\\.venv\\Lib\\site-packages\\googleapiclient\\http.py:938\u001B[39m, in \u001B[36mHttpRequest.execute\u001B[39m\u001B[34m(self, http, num_retries)\u001B[39m\n\u001B[32m    937\u001B[39m \u001B[38;5;28;01mif\u001B[39;00m resp.status >= \u001B[32m300\u001B[39m:\n\u001B[32m--> \u001B[39m\u001B[32m938\u001B[39m     \u001B[38;5;28;01mraise\u001B[39;00m HttpError(resp, content, uri=\u001B[38;5;28mself\u001B[39m.uri)\n\u001B[32m    939\u001B[39m \u001B[38;5;28;01mreturn\u001B[39;00m \u001B[38;5;28mself\u001B[39m.postproc(resp, content)\n",
      "\u001B[31mHttpError\u001B[39m: <HttpError 400 when requesting https://earthengine.googleapis.com/v1/projects/rwanda-climate-alerts/value:compute?prettyPrint=false&alt=json returned \"Image.subtract, argument 'image2': Invalid type.\nExpected type: Image<unknown bands>.\nActual type: Dictionary<Float>.\nActual value: {precipitation=-0.9888367602330774}\". Details: \"Image.subtract, argument 'image2': Invalid type.\nExpected type: Image<unknown bands>.\nActual type: Dictionary<Float>.\nActual value: {precipitation=-0.9888367602330774}\">",
      "\nDuring handling of the above exception, another exception occurred:\n",
      "\u001B[31mEEException\u001B[39m                               Traceback (most recent call last)",
      "\u001B[36mCell\u001B[39m\u001B[36m \u001B[39m\u001B[32mIn[73]\u001B[39m\u001B[32m, line 14\u001B[39m\n\u001B[32m     11\u001B[39m landslide_risk_stats = aggregate_risk(landslide_risk_index)\n\u001B[32m     13\u001B[39m \u001B[38;5;66;03m# Print first feature\u001B[39;00m\n\u001B[32m---> \u001B[39m\u001B[32m14\u001B[39m \u001B[38;5;28mprint\u001B[39m(\u001B[43mflood_risk_stats\u001B[49m\u001B[43m.\u001B[49m\u001B[43mfirst\u001B[49m\u001B[43m(\u001B[49m\u001B[43m)\u001B[49m\u001B[43m.\u001B[49m\u001B[43mgetInfo\u001B[49m\u001B[43m(\u001B[49m\u001B[43m)\u001B[49m)\n",
      "\u001B[36mFile \u001B[39m\u001B[32mD:\\PC DISAINE\\toky\\ALU\\Others\\rwanda-climate-alerts\\.venv\\Lib\\site-packages\\ee\\computedobject.py:107\u001B[39m, in \u001B[36mComputedObject.getInfo\u001B[39m\u001B[34m(self)\u001B[39m\n\u001B[32m    101\u001B[39m \u001B[38;5;28;01mdef\u001B[39;00m\u001B[38;5;250m \u001B[39m\u001B[34mgetInfo\u001B[39m(\u001B[38;5;28mself\u001B[39m) -> Any | \u001B[38;5;28;01mNone\u001B[39;00m:\n\u001B[32m    102\u001B[39m \u001B[38;5;250m  \u001B[39m\u001B[33;03m\"\"\"Fetch and return information about this object.\u001B[39;00m\n\u001B[32m    103\u001B[39m \n\u001B[32m    104\u001B[39m \u001B[33;03m  Returns:\u001B[39;00m\n\u001B[32m    105\u001B[39m \u001B[33;03m    The object can evaluate to anything.\u001B[39;00m\n\u001B[32m    106\u001B[39m \u001B[33;03m  \"\"\"\u001B[39;00m\n\u001B[32m--> \u001B[39m\u001B[32m107\u001B[39m   \u001B[38;5;28;01mreturn\u001B[39;00m \u001B[43mdata\u001B[49m\u001B[43m.\u001B[49m\u001B[43mcomputeValue\u001B[49m\u001B[43m(\u001B[49m\u001B[38;5;28;43mself\u001B[39;49m\u001B[43m)\u001B[49m\n",
      "\u001B[36mFile \u001B[39m\u001B[32mD:\\PC DISAINE\\toky\\ALU\\Others\\rwanda-climate-alerts\\.venv\\Lib\\site-packages\\ee\\data.py:1122\u001B[39m, in \u001B[36mcomputeValue\u001B[39m\u001B[34m(obj)\u001B[39m\n\u001B[32m   1119\u001B[39m body = {\u001B[33m'\u001B[39m\u001B[33mexpression\u001B[39m\u001B[33m'\u001B[39m: serializer.encode(obj, for_cloud_api=\u001B[38;5;28;01mTrue\u001B[39;00m)}\n\u001B[32m   1120\u001B[39m _maybe_populate_workload_tag(body)\n\u001B[32m-> \u001B[39m\u001B[32m1122\u001B[39m \u001B[38;5;28;01mreturn\u001B[39;00m \u001B[43m_execute_cloud_call\u001B[49m\u001B[43m(\u001B[49m\n\u001B[32m   1123\u001B[39m \u001B[43m    \u001B[49m\u001B[43m_get_cloud_projects\u001B[49m\u001B[43m(\u001B[49m\u001B[43m)\u001B[49m\n\u001B[32m   1124\u001B[39m \u001B[43m    \u001B[49m\u001B[43m.\u001B[49m\u001B[43mvalue\u001B[49m\u001B[43m(\u001B[49m\u001B[43m)\u001B[49m\n\u001B[32m   1125\u001B[39m \u001B[43m    \u001B[49m\u001B[43m.\u001B[49m\u001B[43mcompute\u001B[49m\u001B[43m(\u001B[49m\u001B[43mbody\u001B[49m\u001B[43m=\u001B[49m\u001B[43mbody\u001B[49m\u001B[43m,\u001B[49m\u001B[43m \u001B[49m\u001B[43mproject\u001B[49m\u001B[43m=\u001B[49m\u001B[43m_get_projects_path\u001B[49m\u001B[43m(\u001B[49m\u001B[43m)\u001B[49m\u001B[43m,\u001B[49m\u001B[43m \u001B[49m\u001B[43mprettyPrint\u001B[49m\u001B[43m=\u001B[49m\u001B[38;5;28;43;01mFalse\u001B[39;49;00m\u001B[43m)\u001B[49m\n\u001B[32m   1126\u001B[39m \u001B[43m\u001B[49m\u001B[43m)\u001B[49m[\u001B[33m'\u001B[39m\u001B[33mresult\u001B[39m\u001B[33m'\u001B[39m]\n",
      "\u001B[36mFile \u001B[39m\u001B[32mD:\\PC DISAINE\\toky\\ALU\\Others\\rwanda-climate-alerts\\.venv\\Lib\\site-packages\\ee\\data.py:406\u001B[39m, in \u001B[36m_execute_cloud_call\u001B[39m\u001B[34m(call, num_retries)\u001B[39m\n\u001B[32m    404\u001B[39m   \u001B[38;5;28;01mreturn\u001B[39;00m call.execute(num_retries=num_retries)\n\u001B[32m    405\u001B[39m \u001B[38;5;28;01mexcept\u001B[39;00m googleapiclient.errors.HttpError \u001B[38;5;28;01mas\u001B[39;00m e:\n\u001B[32m--> \u001B[39m\u001B[32m406\u001B[39m   \u001B[38;5;28;01mraise\u001B[39;00m _translate_cloud_exception(e)\n",
      "\u001B[31mEEException\u001B[39m: Image.subtract, argument 'image2': Invalid type.\nExpected type: Image<unknown bands>.\nActual type: Dictionary<Float>.\nActual value: {precipitation=-0.9888367602330774}"
     ]
    }
   ],
   "execution_count": 73
  },
  {
   "cell_type": "markdown",
   "id": "0ebecb34-0ab5-490e-a1d1-4fdec2c1199c",
   "metadata": {},
   "source": [
    "## Compute pixel-level hazard indices"
   ]
  },
  {
   "metadata": {},
   "cell_type": "code",
   "outputs": [],
   "execution_count": null,
   "source": "",
   "id": "543e08db4d1c036d"
  },
  {
   "cell_type": "code",
   "execution_count": 84,
   "id": "a5a4f898-eb9d-4fe0-aa3f-f5b13163bf0e",
   "metadata": {},
   "outputs": [
    {
     "data": {
      "text/html": [
       "\n",
       "            <style>\n",
       "                .geemap-dark {\n",
       "                    --jp-widgets-color: white;\n",
       "                    --jp-widgets-label-color: white;\n",
       "                    --jp-ui-font-color1: white;\n",
       "                    --jp-layout-color2: #454545;\n",
       "                    background-color: #383838;\n",
       "                }\n",
       "\n",
       "                .geemap-dark .jupyter-button {\n",
       "                    --jp-layout-color3: #383838;\n",
       "                }\n",
       "\n",
       "                .geemap-colab {\n",
       "                    background-color: var(--colab-primary-surface-color, white);\n",
       "                }\n",
       "\n",
       "                .geemap-colab .jupyter-button {\n",
       "                    --jp-layout-color3: var(--colab-primary-surface-color, white);\n",
       "                }\n",
       "            </style>\n",
       "            "
      ],
      "text/plain": [
       "<IPython.core.display.HTML object>"
      ]
     },
     "metadata": {},
     "output_type": "display_data"
    }
   ],
   "source": [
    "# Example: Monthly rainfall anomaly\n",
    "monthly_rain = chirps_h\\\n",
    "    .map(lambda img: img.set(\"month\", img.date().get(\"month\")))\n",
    "\n",
    "baseline_mean = monthly_rain.mean()"
   ]
  },
  {
   "cell_type": "code",
   "execution_count": 70,
   "id": "26cd94f2ab8c758a",
   "metadata": {
    "collapsed": true,
    "jupyter": {
     "outputs_hidden": true,
     "source_hidden": true
    }
   },
   "outputs": [
    {
     "data": {
      "text/html": [
       "\n",
       "            <style>\n",
       "                .geemap-dark {\n",
       "                    --jp-widgets-color: white;\n",
       "                    --jp-widgets-label-color: white;\n",
       "                    --jp-ui-font-color1: white;\n",
       "                    --jp-layout-color2: #454545;\n",
       "                    background-color: #383838;\n",
       "                }\n",
       "\n",
       "                .geemap-dark .jupyter-button {\n",
       "                    --jp-layout-color3: #383838;\n",
       "                }\n",
       "\n",
       "                .geemap-colab {\n",
       "                    background-color: var(--colab-primary-surface-color, white);\n",
       "                }\n",
       "\n",
       "                .geemap-colab .jupyter-button {\n",
       "                    --jp-layout-color3: var(--colab-primary-surface-color, white);\n",
       "                }\n",
       "            </style>\n",
       "            "
      ],
      "text/plain": [
       "<IPython.core.display.HTML object>"
      ]
     },
     "metadata": {},
     "output_type": "display_data"
    },
    {
     "data": {
      "application/vnd.jupyter.widget-view+json": {
       "model_id": "bf5a8da3392c4e8ca477e4a0780c5d5d",
       "version_major": 2,
       "version_minor": 0
      },
      "text/plain": [
       "Map(center=[-1.94, 29.87], controls=(WidgetControl(options=['position', 'transparent_bg'], position='topright'…"
      ]
     },
     "execution_count": 70,
     "metadata": {},
     "output_type": "execute_result"
    }
   ],
   "source": [
    "# m = geemap.Map(center=[-1.94, 29.87], zoom=8)\n",
    "#\n",
    "# m.addLayer(aoi, {'color': 'black'}, 'Geometry [black]: Rwanda')\n",
    "#\n",
    "# m.addLayer(annual_rain_aoi, vis_params, 'CHIRPS')\n",
    "# palette = ['red', 'orange', 'yellow', 'green', 'blue', 'darkblue']\n",
    "# vis_params = {\n",
    "#     'min': 0,\n",
    "#     'max': 200000, # Adjust max based on expected precipitation range (in mm)\n",
    "#     'palette': palette\n",
    "# }\n",
    "#\n",
    "# m.add_colorbar(vis_params, label=\"Rainfall (mm)\")\n",
    "#\n",
    "# m"
   ]
  }
 ],
 "metadata": {
  "kernelspec": {
   "display_name": "Python 3 (ipykernel)",
   "language": "python",
   "name": "python3"
  },
  "language_info": {
   "codemirror_mode": {
    "name": "ipython",
    "version": 3
   },
   "file_extension": ".py",
   "mimetype": "text/x-python",
   "name": "python",
   "nbconvert_exporter": "python",
   "pygments_lexer": "ipython3",
   "version": "3.13.2"
  }
 },
 "nbformat": 4,
 "nbformat_minor": 5
}
