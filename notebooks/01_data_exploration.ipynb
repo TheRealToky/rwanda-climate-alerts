{
 "cells": [
  {
   "cell_type": "markdown",
   "id": "7be5ab36441ca2e0",
   "metadata": {
    "jp-MarkdownHeadingCollapsed": true
   },
   "source": [
    "# Imports and Pre-requisites"
   ]
  },
  {
   "cell_type": "code",
   "execution_count": 1,
   "id": "initial_id",
   "metadata": {
    "ExecuteTime": {
     "end_time": "2025-09-27T21:05:01.437770Z",
     "start_time": "2025-09-27T21:05:00.113938Z"
    }
   },
   "outputs": [],
   "source": [
    "import ee\n",
    "import geemap\n",
    "import pandas as pd\n",
    "import numpy as np\n",
    "import matplotlib.pyplot as plt\n",
    "from datetime import date, timedelta, datetime"
   ]
  },
  {
   "cell_type": "code",
   "execution_count": 2,
   "id": "c00b6e108e21415b",
   "metadata": {},
   "outputs": [
    {
     "data": {
      "text/html": [
       "\n",
       "            <style>\n",
       "                .geemap-dark {\n",
       "                    --jp-widgets-color: white;\n",
       "                    --jp-widgets-label-color: white;\n",
       "                    --jp-ui-font-color1: white;\n",
       "                    --jp-layout-color2: #454545;\n",
       "                    background-color: #383838;\n",
       "                }\n",
       "\n",
       "                .geemap-dark .jupyter-button {\n",
       "                    --jp-layout-color3: #383838;\n",
       "                }\n",
       "\n",
       "                .geemap-colab {\n",
       "                    background-color: var(--colab-primary-surface-color, white);\n",
       "                }\n",
       "\n",
       "                .geemap-colab .jupyter-button {\n",
       "                    --jp-layout-color3: var(--colab-primary-surface-color, white);\n",
       "                }\n",
       "            </style>\n",
       "            "
      ],
      "text/plain": [
       "<IPython.core.display.HTML object>"
      ]
     },
     "metadata": {},
     "output_type": "display_data"
    },
    {
     "data": {
      "text/plain": [
       "True"
      ]
     },
     "execution_count": 2,
     "metadata": {},
     "output_type": "execute_result"
    }
   ],
   "source": [
    "ee.Authenticate()"
   ]
  },
  {
   "cell_type": "code",
   "execution_count": 3,
   "id": "c07c2f302bf45a50",
   "metadata": {},
   "outputs": [
    {
     "data": {
      "text/html": [
       "\n",
       "            <style>\n",
       "                .geemap-dark {\n",
       "                    --jp-widgets-color: white;\n",
       "                    --jp-widgets-label-color: white;\n",
       "                    --jp-ui-font-color1: white;\n",
       "                    --jp-layout-color2: #454545;\n",
       "                    background-color: #383838;\n",
       "                }\n",
       "\n",
       "                .geemap-dark .jupyter-button {\n",
       "                    --jp-layout-color3: #383838;\n",
       "                }\n",
       "\n",
       "                .geemap-colab {\n",
       "                    background-color: var(--colab-primary-surface-color, white);\n",
       "                }\n",
       "\n",
       "                .geemap-colab .jupyter-button {\n",
       "                    --jp-layout-color3: var(--colab-primary-surface-color, white);\n",
       "                }\n",
       "            </style>\n",
       "            "
      ],
      "text/plain": [
       "<IPython.core.display.HTML object>"
      ]
     },
     "metadata": {},
     "output_type": "display_data"
    }
   ],
   "source": [
    "ee.Initialize(project=\"rwanda-climate-alerts\")"
   ]
  },
  {
   "cell_type": "markdown",
   "id": "e418c07284d8d2cc",
   "metadata": {},
   "source": [
    "# Collect Datasets"
   ]
  },
  {
   "cell_type": "markdown",
   "id": "7c6ff2d4bfb9c271",
   "metadata": {},
   "source": [
    "## Baseline setup\n",
    "In this section, we will define the\n",
    "- baseline area of interest: polygon covering Rwanda\n",
    "- drought/flood years"
   ]
  },
  {
   "cell_type": "code",
   "execution_count": 8,
   "id": "3ddcb79cbd07325e",
   "metadata": {
    "jupyter": {
     "source_hidden": true
    }
   },
   "outputs": [
    {
     "data": {
      "text/html": [
       "\n",
       "            <style>\n",
       "                .geemap-dark {\n",
       "                    --jp-widgets-color: white;\n",
       "                    --jp-widgets-label-color: white;\n",
       "                    --jp-ui-font-color1: white;\n",
       "                    --jp-layout-color2: #454545;\n",
       "                    background-color: #383838;\n",
       "                }\n",
       "\n",
       "                .geemap-dark .jupyter-button {\n",
       "                    --jp-layout-color3: #383838;\n",
       "                }\n",
       "\n",
       "                .geemap-colab {\n",
       "                    background-color: var(--colab-primary-surface-color, white);\n",
       "                }\n",
       "\n",
       "                .geemap-colab .jupyter-button {\n",
       "                    --jp-layout-color3: var(--colab-primary-surface-color, white);\n",
       "                }\n",
       "            </style>\n",
       "            "
      ],
      "text/plain": [
       "<IPython.core.display.HTML object>"
      ]
     },
     "metadata": {},
     "output_type": "display_data"
    }
   ],
   "source": [
    "# drought_years = [\n",
    "#     \"1984-10-01\",\n",
    "#     \"1989-12-01\",\n",
    "#     \"1996-01-01\",\n",
    "#     \"1999-11-01\",\n",
    "#     \"2000-01-01\",  # \"Early 2000\"\n",
    "#     \"2003-03-01\",\n",
    "#     \"2005-02-01\",\n",
    "#     \"2006-03-01\",\n",
    "#     \"2006-09-01\",\n",
    "#     \"2014-06-01\"\n",
    "# ]\n",
    "#\n",
    "# # Flood dates\n",
    "# flood_years = [\n",
    "#     \"1988-05-06\",\n",
    "#     \"2000-11-21\",\n",
    "#     \"2001-09-22\",\n",
    "#     \"2001-10-30\",\n",
    "#     \"2002-04-26\",\n",
    "#     \"2003-10-30\",\n",
    "#     \"2005-08-16\"\n",
    "# ]"
   ]
  },
  {
   "cell_type": "code",
   "execution_count": 71,
   "id": "cf82998af56f4c09",
   "metadata": {
    "jupyter": {
     "source_hidden": true
    }
   },
   "outputs": [
    {
     "data": {
      "text/html": [
       "\n",
       "            <style>\n",
       "                .geemap-dark {\n",
       "                    --jp-widgets-color: white;\n",
       "                    --jp-widgets-label-color: white;\n",
       "                    --jp-ui-font-color1: white;\n",
       "                    --jp-layout-color2: #454545;\n",
       "                    background-color: #383838;\n",
       "                }\n",
       "\n",
       "                .geemap-dark .jupyter-button {\n",
       "                    --jp-layout-color3: #383838;\n",
       "                }\n",
       "\n",
       "                .geemap-colab {\n",
       "                    background-color: var(--colab-primary-surface-color, white);\n",
       "                }\n",
       "\n",
       "                .geemap-colab .jupyter-button {\n",
       "                    --jp-layout-color3: var(--colab-primary-surface-color, white);\n",
       "                }\n",
       "            </style>\n",
       "            "
      ],
      "text/plain": [
       "<IPython.core.display.HTML object>"
      ]
     },
     "metadata": {},
     "output_type": "display_data"
    }
   ],
   "source": [
    "# Convert date string to date format\n",
    "def str_to_date_range(date_string, date_format):\n",
    "    initial_date = datetime.strptime(date_string, date_format)\n",
    "\n",
    "    two_weeks_early_date = initial_date - timedelta(weeks=2)\n",
    "    two_weeks_later_date = initial_date + timedelta(weeks=2)\n",
    "\n",
    "    return two_weeks_early_date, two_weeks_later_date\n",
    "\n",
    "# date_1, date_2 = str_to_date_range(\"1970-01-01\", \"%Y-%m-%d\")\n",
    "# print(date_1, date_2)\n",
    "\n",
    "def date_range_to_list(date_list):\n",
    "    date_range_list = []\n",
    "\n",
    "    for flood_date in date_list:\n",
    "        date_range_0, date_range_1 = str_to_date_range(flood_date, \"%Y-%m-%d\")\n",
    "        date_range_list.append([date_range_0, date_range_1])\n",
    "\n",
    "    return date_range_list\n",
    "\n",
    "flood_dates_range = []\n",
    "\n",
    "for flood_range in flood_dates_range:\n",
    "    print(flood_range[0], flood_range[1])"
   ]
  },
  {
   "cell_type": "code",
   "execution_count": 72,
   "id": "799d97305c3da35",
   "metadata": {},
   "outputs": [
    {
     "data": {
      "text/html": [
       "\n",
       "            <style>\n",
       "                .geemap-dark {\n",
       "                    --jp-widgets-color: white;\n",
       "                    --jp-widgets-label-color: white;\n",
       "                    --jp-ui-font-color1: white;\n",
       "                    --jp-layout-color2: #454545;\n",
       "                    background-color: #383838;\n",
       "                }\n",
       "\n",
       "                .geemap-dark .jupyter-button {\n",
       "                    --jp-layout-color3: #383838;\n",
       "                }\n",
       "\n",
       "                .geemap-colab {\n",
       "                    background-color: var(--colab-primary-surface-color, white);\n",
       "                }\n",
       "\n",
       "                .geemap-colab .jupyter-button {\n",
       "                    --jp-layout-color3: var(--colab-primary-surface-color, white);\n",
       "                }\n",
       "            </style>\n",
       "            "
      ],
      "text/plain": [
       "<IPython.core.display.HTML object>"
      ]
     },
     "metadata": {},
     "output_type": "display_data"
    }
   ],
   "source": [
    "aoi = ee.Geometry.Polygon([\n",
    "    [\n",
    "        [28.70, -2.85],\n",
    "        [31.00, -2.85],\n",
    "        [31.00, -1.00],\n",
    "        [28.70, -1.00]\n",
    "    ]\n",
    "])\n",
    "\n",
    "# Drought dates\n",
    "drought_years = [\"1984\", \"1989\", \"1996\", \"1999\", \"2000\", \"2003\", \"2005\", \"2006\", \"2006\", \"2014\"]\n",
    "\n",
    "# Flood dates\n",
    "flood_years = [\"1988\", \"2000\", \"2001\", \"2001\", \"2002\", \"2003\", \"2005\"]"
   ]
  },
  {
   "cell_type": "markdown",
   "id": "e2447693-cdc0-4c1b-bd90-b27ad11093aa",
   "metadata": {},
   "source": [
    "## Fetch Datasets"
   ]
  },
  {
   "cell_type": "code",
   "execution_count": 78,
   "id": "b52825b7c4245a3a",
   "metadata": {},
   "outputs": [
    {
     "data": {
      "text/html": [
       "\n",
       "            <style>\n",
       "                .geemap-dark {\n",
       "                    --jp-widgets-color: white;\n",
       "                    --jp-widgets-label-color: white;\n",
       "                    --jp-ui-font-color1: white;\n",
       "                    --jp-layout-color2: #454545;\n",
       "                    background-color: #383838;\n",
       "                }\n",
       "\n",
       "                .geemap-dark .jupyter-button {\n",
       "                    --jp-layout-color3: #383838;\n",
       "                }\n",
       "\n",
       "                .geemap-colab {\n",
       "                    background-color: var(--colab-primary-surface-color, white);\n",
       "                }\n",
       "\n",
       "                .geemap-colab .jupyter-button {\n",
       "                    --jp-layout-color3: var(--colab-primary-surface-color, white);\n",
       "                }\n",
       "            </style>\n",
       "            "
      ],
      "text/plain": [
       "<IPython.core.display.HTML object>"
      ]
     },
     "metadata": {},
     "output_type": "display_data"
    }
   ],
   "source": [
    "chirps_baseline_start = '1981-01-01'\n",
    "chirps_baseline_end   = '2025-09-26'\n",
    "\n",
    "# CHIRPS Daily Rainfall (mm/day)\n",
    "chirps = ee.ImageCollection('UCSB-CHG/CHIRPS/DAILY')\\\n",
    "            .filterDate(\"2000-01-01\", \"2025-08-01\")\\\n",
    "            .filterBounds(aoi)\n",
    "\n",
    "# ERA5 Land Monthly Temperature\n",
    "era5_temp = ee.ImageCollection(\"ECMWF/ERA5_LAND/MONTHLY_AGGR\") \\\n",
    "               .select(\"temperature_2m\") \\\n",
    "               .filterDate(\"2000-01-01\", \"2025-08-01\") \\\n",
    "               .filterBounds(aoi)\n",
    "\n",
    "# Soil Moisture (ERA5 Land)\n",
    "soil_moist = ee.ImageCollection(\"ECMWF/ERA5_LAND/MONTHLY_AGGR\") \\\n",
    "                 .select(\"volumetric_soil_water_layer_1\") \\\n",
    "                 .filterDate(\"2000-01-01\", \"2025-08-01\") \\\n",
    "                 .filterBounds(aoi)\n",
    "\n",
    "# annual_rain = chirps.sum()\n",
    "# annual_rain_aoi = annual_rain.clip(aoi)\n",
    "\n",
    "# event_year = \"2024\"\n",
    "# event = chirps.filterDate(f\"{event_year}-01-01\", f\"{event_year}-12-31\")"
   ]
  },
  {
   "cell_type": "markdown",
   "id": "60be5017-3560-4f3e-a139-04b340580348",
   "metadata": {},
   "source": [
    "## Harmonize the datasets"
   ]
  },
  {
   "cell_type": "code",
   "execution_count": 82,
   "id": "45bbf076-aedd-44f1-9857-5c354733860f",
   "metadata": {},
   "outputs": [
    {
     "data": {
      "text/html": [
       "\n",
       "            <style>\n",
       "                .geemap-dark {\n",
       "                    --jp-widgets-color: white;\n",
       "                    --jp-widgets-label-color: white;\n",
       "                    --jp-ui-font-color1: white;\n",
       "                    --jp-layout-color2: #454545;\n",
       "                    background-color: #383838;\n",
       "                }\n",
       "\n",
       "                .geemap-dark .jupyter-button {\n",
       "                    --jp-layout-color3: #383838;\n",
       "                }\n",
       "\n",
       "                .geemap-colab {\n",
       "                    background-color: var(--colab-primary-surface-color, white);\n",
       "                }\n",
       "\n",
       "                .geemap-colab .jupyter-button {\n",
       "                    --jp-layout-color3: var(--colab-primary-surface-color, white);\n",
       "                }\n",
       "            </style>\n",
       "            "
      ],
      "text/plain": [
       "<IPython.core.display.HTML object>"
      ]
     },
     "metadata": {},
     "output_type": "display_data"
    }
   ],
   "source": [
    "# Pick a reference projection (CHIRPS here)\n",
    "ref = chirps.first().projection()\n",
    "\n",
    "def harmonize(img):\n",
    "    return img.resample(\"bilinear\").reproject(ref)\n",
    "\n",
    "chirps_h = chirps.map(harmonize)\n",
    "era5_temp_h = era5_temp.map(harmonize)\n",
    "soil_moist_h = soil_moist.map(harmonize)\n"
   ]
  },
  {
   "cell_type": "markdown",
   "id": "0ebecb34-0ab5-490e-a1d1-4fdec2c1199c",
   "metadata": {},
   "source": [
    "## Compute pixel-level hazard indices"
   ]
  },
  {
   "cell_type": "code",
   "execution_count": 84,
   "id": "a5a4f898-eb9d-4fe0-aa3f-f5b13163bf0e",
   "metadata": {},
   "outputs": [
    {
     "data": {
      "text/html": [
       "\n",
       "            <style>\n",
       "                .geemap-dark {\n",
       "                    --jp-widgets-color: white;\n",
       "                    --jp-widgets-label-color: white;\n",
       "                    --jp-ui-font-color1: white;\n",
       "                    --jp-layout-color2: #454545;\n",
       "                    background-color: #383838;\n",
       "                }\n",
       "\n",
       "                .geemap-dark .jupyter-button {\n",
       "                    --jp-layout-color3: #383838;\n",
       "                }\n",
       "\n",
       "                .geemap-colab {\n",
       "                    background-color: var(--colab-primary-surface-color, white);\n",
       "                }\n",
       "\n",
       "                .geemap-colab .jupyter-button {\n",
       "                    --jp-layout-color3: var(--colab-primary-surface-color, white);\n",
       "                }\n",
       "            </style>\n",
       "            "
      ],
      "text/plain": [
       "<IPython.core.display.HTML object>"
      ]
     },
     "metadata": {},
     "output_type": "display_data"
    }
   ],
   "source": [
    "# Example: Monthly rainfall anomaly\n",
    "monthly_rain = chirps_h\\\n",
    "    .map(lambda img: img.set(\"month\", img.date().get(\"month\")))\n",
    "\n",
    "baseline_mean = monthly_rain.mean()"
   ]
  },
  {
   "cell_type": "code",
   "execution_count": 70,
   "id": "26cd94f2ab8c758a",
   "metadata": {
    "collapsed": true,
    "jupyter": {
     "outputs_hidden": true,
     "source_hidden": true
    }
   },
   "outputs": [
    {
     "data": {
      "text/html": [
       "\n",
       "            <style>\n",
       "                .geemap-dark {\n",
       "                    --jp-widgets-color: white;\n",
       "                    --jp-widgets-label-color: white;\n",
       "                    --jp-ui-font-color1: white;\n",
       "                    --jp-layout-color2: #454545;\n",
       "                    background-color: #383838;\n",
       "                }\n",
       "\n",
       "                .geemap-dark .jupyter-button {\n",
       "                    --jp-layout-color3: #383838;\n",
       "                }\n",
       "\n",
       "                .geemap-colab {\n",
       "                    background-color: var(--colab-primary-surface-color, white);\n",
       "                }\n",
       "\n",
       "                .geemap-colab .jupyter-button {\n",
       "                    --jp-layout-color3: var(--colab-primary-surface-color, white);\n",
       "                }\n",
       "            </style>\n",
       "            "
      ],
      "text/plain": [
       "<IPython.core.display.HTML object>"
      ]
     },
     "metadata": {},
     "output_type": "display_data"
    },
    {
     "data": {
      "application/vnd.jupyter.widget-view+json": {
       "model_id": "bf5a8da3392c4e8ca477e4a0780c5d5d",
       "version_major": 2,
       "version_minor": 0
      },
      "text/plain": [
       "Map(center=[-1.94, 29.87], controls=(WidgetControl(options=['position', 'transparent_bg'], position='topright'…"
      ]
     },
     "execution_count": 70,
     "metadata": {},
     "output_type": "execute_result"
    }
   ],
   "source": [
    "m = geemap.Map(center=[-1.94, 29.87], zoom=8)\n",
    "\n",
    "m.addLayer(aoi, {'color': 'black'}, 'Geometry [black]: Rwanda')\n",
    "\n",
    "m.addLayer(annual_rain_aoi, vis_params, 'CHIRPS')\n",
    "palette = ['red', 'orange', 'yellow', 'green', 'blue', 'darkblue']\n",
    "vis_params = {\n",
    "    'min': 0,\n",
    "    'max': 200000, # Adjust max based on expected precipitation range (in mm)\n",
    "    'palette': palette\n",
    "}\n",
    "\n",
    "m.add_colorbar(vis_params, label=\"Rainfall (mm)\")\n",
    "\n",
    "m"
   ]
  }
 ],
 "metadata": {
  "kernelspec": {
   "display_name": "Python 3 (ipykernel)",
   "language": "python",
   "name": "python3"
  },
  "language_info": {
   "codemirror_mode": {
    "name": "ipython",
    "version": 3
   },
   "file_extension": ".py",
   "mimetype": "text/x-python",
   "name": "python",
   "nbconvert_exporter": "python",
   "pygments_lexer": "ipython3",
   "version": "3.13.2"
  }
 },
 "nbformat": 4,
 "nbformat_minor": 5
}
