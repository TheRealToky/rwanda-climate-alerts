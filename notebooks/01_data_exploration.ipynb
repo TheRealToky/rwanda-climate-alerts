{
 "cells": [
  {
   "cell_type": "markdown",
   "id": "7be5ab36441ca2e0",
   "metadata": {
    "jp-MarkdownHeadingCollapsed": true
   },
   "source": [
    "# Imports and Pre-requisites"
   ]
  },
  {
   "cell_type": "code",
   "id": "initial_id",
   "metadata": {
    "ExecuteTime": {
     "end_time": "2025-09-28T22:46:00.150709Z",
     "start_time": "2025-09-28T22:46:00.143252Z"
    }
   },
   "source": [
    "import ee\n",
    "import geemap\n",
    "import pandas as pd\n",
    "import numpy as np\n",
    "import matplotlib.pyplot as plt\n",
    "from datetime import date, timedelta, datetime"
   ],
   "outputs": [
    {
     "data": {
      "text/plain": [
       "<IPython.core.display.HTML object>"
      ],
      "text/html": [
       "\n",
       "            <style>\n",
       "                .geemap-dark {\n",
       "                    --jp-widgets-color: white;\n",
       "                    --jp-widgets-label-color: white;\n",
       "                    --jp-ui-font-color1: white;\n",
       "                    --jp-layout-color2: #454545;\n",
       "                    background-color: #383838;\n",
       "                }\n",
       "\n",
       "                .geemap-dark .jupyter-button {\n",
       "                    --jp-layout-color3: #383838;\n",
       "                }\n",
       "\n",
       "                .geemap-colab {\n",
       "                    background-color: var(--colab-primary-surface-color, white);\n",
       "                }\n",
       "\n",
       "                .geemap-colab .jupyter-button {\n",
       "                    --jp-layout-color3: var(--colab-primary-surface-color, white);\n",
       "                }\n",
       "            </style>\n",
       "            "
      ]
     },
     "metadata": {},
     "output_type": "display_data",
     "jetTransient": {
      "display_id": null
     }
    }
   ],
   "execution_count": 13
  },
  {
   "cell_type": "code",
   "id": "c00b6e108e21415b",
   "metadata": {
    "ExecuteTime": {
     "end_time": "2025-09-28T22:46:02.606542Z",
     "start_time": "2025-09-28T22:46:01.175013Z"
    }
   },
   "source": [
    "ee.Authenticate()"
   ],
   "outputs": [
    {
     "data": {
      "text/plain": [
       "<IPython.core.display.HTML object>"
      ],
      "text/html": [
       "\n",
       "            <style>\n",
       "                .geemap-dark {\n",
       "                    --jp-widgets-color: white;\n",
       "                    --jp-widgets-label-color: white;\n",
       "                    --jp-ui-font-color1: white;\n",
       "                    --jp-layout-color2: #454545;\n",
       "                    background-color: #383838;\n",
       "                }\n",
       "\n",
       "                .geemap-dark .jupyter-button {\n",
       "                    --jp-layout-color3: #383838;\n",
       "                }\n",
       "\n",
       "                .geemap-colab {\n",
       "                    background-color: var(--colab-primary-surface-color, white);\n",
       "                }\n",
       "\n",
       "                .geemap-colab .jupyter-button {\n",
       "                    --jp-layout-color3: var(--colab-primary-surface-color, white);\n",
       "                }\n",
       "            </style>\n",
       "            "
      ]
     },
     "metadata": {},
     "output_type": "display_data",
     "jetTransient": {
      "display_id": null
     }
    },
    {
     "data": {
      "text/plain": [
       "True"
      ]
     },
     "execution_count": 14,
     "metadata": {},
     "output_type": "execute_result"
    }
   ],
   "execution_count": 14
  },
  {
   "cell_type": "code",
   "id": "c07c2f302bf45a50",
   "metadata": {
    "ExecuteTime": {
     "end_time": "2025-09-28T22:46:06.057260Z",
     "start_time": "2025-09-28T22:46:03.357895Z"
    }
   },
   "source": [
    "ee.Initialize(project=\"rwanda-climate-alerts\")"
   ],
   "outputs": [
    {
     "data": {
      "text/plain": [
       "<IPython.core.display.HTML object>"
      ],
      "text/html": [
       "\n",
       "            <style>\n",
       "                .geemap-dark {\n",
       "                    --jp-widgets-color: white;\n",
       "                    --jp-widgets-label-color: white;\n",
       "                    --jp-ui-font-color1: white;\n",
       "                    --jp-layout-color2: #454545;\n",
       "                    background-color: #383838;\n",
       "                }\n",
       "\n",
       "                .geemap-dark .jupyter-button {\n",
       "                    --jp-layout-color3: #383838;\n",
       "                }\n",
       "\n",
       "                .geemap-colab {\n",
       "                    background-color: var(--colab-primary-surface-color, white);\n",
       "                }\n",
       "\n",
       "                .geemap-colab .jupyter-button {\n",
       "                    --jp-layout-color3: var(--colab-primary-surface-color, white);\n",
       "                }\n",
       "            </style>\n",
       "            "
      ]
     },
     "metadata": {},
     "output_type": "display_data",
     "jetTransient": {
      "display_id": null
     }
    }
   ],
   "execution_count": 15
  },
  {
   "cell_type": "markdown",
   "id": "e418c07284d8d2cc",
   "metadata": {},
   "source": [
    "# Collect Datasets"
   ]
  },
  {
   "cell_type": "markdown",
   "id": "7c6ff2d4bfb9c271",
   "metadata": {},
   "source": [
    "## Baseline setup\n",
    "In this section, we will define the\n",
    "- baseline area of interest: polygon covering Rwanda\n",
    "- drought/flood years"
   ]
  },
  {
   "cell_type": "code",
   "id": "3ddcb79cbd07325e",
   "metadata": {
    "jupyter": {
     "source_hidden": true
    },
    "ExecuteTime": {
     "end_time": "2025-09-28T16:28:32.371625Z",
     "start_time": "2025-09-28T16:28:32.367320Z"
    }
   },
   "source": [
    "# drought_years = [\n",
    "#     \"1984-10-01\",\n",
    "#     \"1989-12-01\",\n",
    "#     \"1996-01-01\",\n",
    "#     \"1999-11-01\",\n",
    "#     \"2000-01-01\",  # \"Early 2000\"\n",
    "#     \"2003-03-01\",\n",
    "#     \"2005-02-01\",\n",
    "#     \"2006-03-01\",\n",
    "#     \"2006-09-01\",\n",
    "#     \"2014-06-01\"\n",
    "# ]\n",
    "#\n",
    "# # Flood dates\n",
    "# flood_years = [\n",
    "#     \"1988-05-06\",\n",
    "#     \"2000-11-21\",\n",
    "#     \"2001-09-22\",\n",
    "#     \"2001-10-30\",\n",
    "#     \"2002-04-26\",\n",
    "#     \"2003-10-30\",\n",
    "#     \"2005-08-16\"\n",
    "# ]"
   ],
   "outputs": [
    {
     "data": {
      "text/plain": [
       "<IPython.core.display.HTML object>"
      ],
      "text/html": [
       "\n",
       "            <style>\n",
       "                .geemap-dark {\n",
       "                    --jp-widgets-color: white;\n",
       "                    --jp-widgets-label-color: white;\n",
       "                    --jp-ui-font-color1: white;\n",
       "                    --jp-layout-color2: #454545;\n",
       "                    background-color: #383838;\n",
       "                }\n",
       "\n",
       "                .geemap-dark .jupyter-button {\n",
       "                    --jp-layout-color3: #383838;\n",
       "                }\n",
       "\n",
       "                .geemap-colab {\n",
       "                    background-color: var(--colab-primary-surface-color, white);\n",
       "                }\n",
       "\n",
       "                .geemap-colab .jupyter-button {\n",
       "                    --jp-layout-color3: var(--colab-primary-surface-color, white);\n",
       "                }\n",
       "            </style>\n",
       "            "
      ]
     },
     "metadata": {},
     "output_type": "display_data",
     "jetTransient": {
      "display_id": null
     }
    }
   ],
   "execution_count": 4
  },
  {
   "cell_type": "code",
   "id": "cf82998af56f4c09",
   "metadata": {
    "jupyter": {
     "source_hidden": true
    },
    "ExecuteTime": {
     "end_time": "2025-09-28T16:28:33.439624Z",
     "start_time": "2025-09-28T16:28:33.432860Z"
    }
   },
   "source": [
    "# Convert date string to date format\n",
    "def str_to_date_range(date_string, date_format):\n",
    "    initial_date = datetime.strptime(date_string, date_format)\n",
    "\n",
    "    two_weeks_early_date = initial_date - timedelta(weeks=2)\n",
    "    two_weeks_later_date = initial_date + timedelta(weeks=2)\n",
    "\n",
    "    return two_weeks_early_date, two_weeks_later_date\n",
    "\n",
    "# date_1, date_2 = str_to_date_range(\"1970-01-01\", \"%Y-%m-%d\")\n",
    "# print(date_1, date_2)\n",
    "\n",
    "def date_range_to_list(date_list):\n",
    "    date_range_list = []\n",
    "\n",
    "    for flood_date in date_list:\n",
    "        date_range_0, date_range_1 = str_to_date_range(flood_date, \"%Y-%m-%d\")\n",
    "        date_range_list.append([date_range_0, date_range_1])\n",
    "\n",
    "    return date_range_list\n",
    "\n",
    "flood_dates_range = []\n",
    "\n",
    "for flood_range in flood_dates_range:\n",
    "    print(flood_range[0], flood_range[1])"
   ],
   "outputs": [
    {
     "data": {
      "text/plain": [
       "<IPython.core.display.HTML object>"
      ],
      "text/html": [
       "\n",
       "            <style>\n",
       "                .geemap-dark {\n",
       "                    --jp-widgets-color: white;\n",
       "                    --jp-widgets-label-color: white;\n",
       "                    --jp-ui-font-color1: white;\n",
       "                    --jp-layout-color2: #454545;\n",
       "                    background-color: #383838;\n",
       "                }\n",
       "\n",
       "                .geemap-dark .jupyter-button {\n",
       "                    --jp-layout-color3: #383838;\n",
       "                }\n",
       "\n",
       "                .geemap-colab {\n",
       "                    background-color: var(--colab-primary-surface-color, white);\n",
       "                }\n",
       "\n",
       "                .geemap-colab .jupyter-button {\n",
       "                    --jp-layout-color3: var(--colab-primary-surface-color, white);\n",
       "                }\n",
       "            </style>\n",
       "            "
      ]
     },
     "metadata": {},
     "output_type": "display_data",
     "jetTransient": {
      "display_id": null
     }
    }
   ],
   "execution_count": 5
  },
  {
   "cell_type": "code",
   "id": "799d97305c3da35",
   "metadata": {
    "ExecuteTime": {
     "end_time": "2025-09-28T16:28:34.744094Z",
     "start_time": "2025-09-28T16:28:34.739107Z"
    }
   },
   "source": [
    "aoi = ee.Geometry.Polygon([\n",
    "    [\n",
    "        [28.70, -2.85],\n",
    "        [31.00, -2.85],\n",
    "        [31.00, -1.00],\n",
    "        [28.70, -1.00]\n",
    "    ]\n",
    "])\n",
    "\n",
    "# Drought dates\n",
    "drought_years = [\"1984\", \"1989\", \"1996\", \"1999\", \"2000\", \"2003\", \"2005\", \"2006\", \"2006\", \"2014\"]\n",
    "\n",
    "# Flood dates\n",
    "flood_years = [\"1988\", \"2000\", \"2001\", \"2001\", \"2002\", \"2003\", \"2005\"]"
   ],
   "outputs": [
    {
     "data": {
      "text/plain": [
       "<IPython.core.display.HTML object>"
      ],
      "text/html": [
       "\n",
       "            <style>\n",
       "                .geemap-dark {\n",
       "                    --jp-widgets-color: white;\n",
       "                    --jp-widgets-label-color: white;\n",
       "                    --jp-ui-font-color1: white;\n",
       "                    --jp-layout-color2: #454545;\n",
       "                    background-color: #383838;\n",
       "                }\n",
       "\n",
       "                .geemap-dark .jupyter-button {\n",
       "                    --jp-layout-color3: #383838;\n",
       "                }\n",
       "\n",
       "                .geemap-colab {\n",
       "                    background-color: var(--colab-primary-surface-color, white);\n",
       "                }\n",
       "\n",
       "                .geemap-colab .jupyter-button {\n",
       "                    --jp-layout-color3: var(--colab-primary-surface-color, white);\n",
       "                }\n",
       "            </style>\n",
       "            "
      ]
     },
     "metadata": {},
     "output_type": "display_data",
     "jetTransient": {
      "display_id": null
     }
    }
   ],
   "execution_count": 6
  },
  {
   "cell_type": "markdown",
   "id": "e2447693-cdc0-4c1b-bd90-b27ad11093aa",
   "metadata": {},
   "source": [
    "## Fetch Datasets"
   ]
  },
  {
   "metadata": {
    "ExecuteTime": {
     "end_time": "2025-09-28T22:46:18.934790Z",
     "start_time": "2025-09-28T22:46:16.904482Z"
    }
   },
   "cell_type": "code",
   "source": [
    "# Create map\n",
    "Map = geemap.Map()\n",
    "\n",
    "districts = ee.FeatureCollection(\"FAO/GAUL/2015/level2\") \\\n",
    "                .filter(ee.Filter.eq(\"ADM0_NAME\", \"Rwanda\")) \\\n",
    "                .map(lambda feature: feature.geometry())\n",
    "\n",
    "Map.addLayer(districts, {}, \"Rwanda Districts\")\n",
    "Map.centerObject(districts, 7)"
   ],
   "id": "3d871fd4f7567eb8",
   "outputs": [
    {
     "data": {
      "text/plain": [
       "<IPython.core.display.HTML object>"
      ],
      "text/html": [
       "\n",
       "            <style>\n",
       "                .geemap-dark {\n",
       "                    --jp-widgets-color: white;\n",
       "                    --jp-widgets-label-color: white;\n",
       "                    --jp-ui-font-color1: white;\n",
       "                    --jp-layout-color2: #454545;\n",
       "                    background-color: #383838;\n",
       "                }\n",
       "\n",
       "                .geemap-dark .jupyter-button {\n",
       "                    --jp-layout-color3: #383838;\n",
       "                }\n",
       "\n",
       "                .geemap-colab {\n",
       "                    background-color: var(--colab-primary-surface-color, white);\n",
       "                }\n",
       "\n",
       "                .geemap-colab .jupyter-button {\n",
       "                    --jp-layout-color3: var(--colab-primary-surface-color, white);\n",
       "                }\n",
       "            </style>\n",
       "            "
      ]
     },
     "metadata": {},
     "output_type": "display_data",
     "jetTransient": {
      "display_id": null
     }
    }
   ],
   "execution_count": 16
  },
  {
   "cell_type": "code",
   "id": "b52825b7c4245a3a",
   "metadata": {
    "ExecuteTime": {
     "end_time": "2025-09-28T22:46:20.048288Z",
     "start_time": "2025-09-28T22:46:20.032419Z"
    }
   },
   "source": [
    "# CHIRPS Daily Rainfall (mm/day)\n",
    "chirps = ee.ImageCollection('UCSB-CHG/CHIRPS/DAILY')\\\n",
    "            .filterDate(\"2000-01-01\", \"2025-08-01\")\\\n",
    "            .filterBounds(districts) \\\n",
    "            .map(lambda img: img.clip(districts))\n",
    "\n",
    "# ERA5 Land Monthly Temperature\n",
    "era5_temp = ee.ImageCollection(\"ECMWF/ERA5_LAND/MONTHLY_AGGR\") \\\n",
    "                .select(\"temperature_2m\") \\\n",
    "                .filterDate(\"2000-01-01\", \"2025-08-01\") \\\n",
    "                .filterBounds(districts) \\\n",
    "                .map(lambda img: img.clip(districts))\n",
    "\n",
    "# Soil Moisture (ERA5 Land)\n",
    "soil_moist = ee.ImageCollection(\"ECMWF/ERA5_LAND/MONTHLY_AGGR\") \\\n",
    "                .select(\"volumetric_soil_water_layer_1\") \\\n",
    "                .filterDate(\"2000-01-01\", \"2025-08-01\") \\\n",
    "                .filterBounds(districts) \\\n",
    "                .map(lambda img: img.clip(districts))\n",
    "\n",
    "# MODIS NDVI (monthly, 250 m)\n",
    "ndvi = ee.ImageCollection(\"MODIS/006/MOD13A1\") \\\n",
    "            .select(\"NDVI\") \\\n",
    "            .filterDate(\"2000-01-01\", \"2020-12-31\") \\\n",
    "            .filterBounds(districts) \\\n",
    "            .map(lambda img: img.clip(districts))\n",
    "\n",
    "# ESA WorldCover 2020 (10 m)\n",
    "landcover = ee.Image(\"ESA/WorldCover/v200/2022\") \\\n",
    "                .clip(districts)\n",
    "\n",
    "# DEM (SRTM ~30m resolution)\n",
    "dem = ee.Image(\"USGS/SRTMGL1_003\").clip(districts)\n",
    "\n",
    "# Calculate slope (degrees)\n",
    "slope = ee.Terrain.slope(dem)\n",
    "\n",
    "\n",
    "# MODIS Land Cover (optional, for time series)\n",
    "modis_lc = ee.ImageCollection(\"MODIS/006/MCD12Q1\") \\\n",
    "                .select(\"LC_Type1\") \\\n",
    "                .filterDate(\"2001-01-01\", \"2020-12-31\") \\\n",
    "                .filterBounds(districts) \\\n",
    "                .map(lambda img: img.clip(districts))"
   ],
   "outputs": [
    {
     "data": {
      "text/plain": [
       "<IPython.core.display.HTML object>"
      ],
      "text/html": [
       "\n",
       "            <style>\n",
       "                .geemap-dark {\n",
       "                    --jp-widgets-color: white;\n",
       "                    --jp-widgets-label-color: white;\n",
       "                    --jp-ui-font-color1: white;\n",
       "                    --jp-layout-color2: #454545;\n",
       "                    background-color: #383838;\n",
       "                }\n",
       "\n",
       "                .geemap-dark .jupyter-button {\n",
       "                    --jp-layout-color3: #383838;\n",
       "                }\n",
       "\n",
       "                .geemap-colab {\n",
       "                    background-color: var(--colab-primary-surface-color, white);\n",
       "                }\n",
       "\n",
       "                .geemap-colab .jupyter-button {\n",
       "                    --jp-layout-color3: var(--colab-primary-surface-color, white);\n",
       "                }\n",
       "            </style>\n",
       "            "
      ]
     },
     "metadata": {},
     "output_type": "display_data",
     "jetTransient": {
      "display_id": null
     }
    }
   ],
   "execution_count": 17
  },
  {
   "metadata": {},
   "cell_type": "markdown",
   "source": "## Aggregate monthly",
   "id": "3539ad3c717a9600"
  },
  {
   "metadata": {
    "ExecuteTime": {
     "end_time": "2025-09-28T22:46:22.366899Z",
     "start_time": "2025-09-28T22:46:22.357271Z"
    }
   },
   "cell_type": "code",
   "source": [
    "def aggregate_monthly(image_collection):\n",
    "    monthly_result = image_collection.map(lambda img: img.set(\"month\", img.date().format(\"YYYY-MM\")))\n",
    "    monthly_sum = monthly_result.reduce(ee.Reducer.sum())\n",
    "    return monthly_result, monthly_sum\n",
    "\n",
    "monthly_chirps, monthly_chirps_sum = aggregate_monthly(chirps)\n",
    "monthly_era5_temp, monthly_era5_temp_sum = aggregate_monthly(era5_temp)\n",
    "monthly_soil_moist, monthly_soil_moist_sum = aggregate_monthly(soil_moist)\n",
    "monthly_ndvi, monthly_ndvi_sum = aggregate_monthly(ndvi)"
   ],
   "id": "1b56d073230de168",
   "outputs": [
    {
     "data": {
      "text/plain": [
       "<IPython.core.display.HTML object>"
      ],
      "text/html": [
       "\n",
       "            <style>\n",
       "                .geemap-dark {\n",
       "                    --jp-widgets-color: white;\n",
       "                    --jp-widgets-label-color: white;\n",
       "                    --jp-ui-font-color1: white;\n",
       "                    --jp-layout-color2: #454545;\n",
       "                    background-color: #383838;\n",
       "                }\n",
       "\n",
       "                .geemap-dark .jupyter-button {\n",
       "                    --jp-layout-color3: #383838;\n",
       "                }\n",
       "\n",
       "                .geemap-colab {\n",
       "                    background-color: var(--colab-primary-surface-color, white);\n",
       "                }\n",
       "\n",
       "                .geemap-colab .jupyter-button {\n",
       "                    --jp-layout-color3: var(--colab-primary-surface-color, white);\n",
       "                }\n",
       "            </style>\n",
       "            "
      ]
     },
     "metadata": {},
     "output_type": "display_data",
     "jetTransient": {
      "display_id": null
     }
    }
   ],
   "execution_count": 18
  },
  {
   "metadata": {},
   "cell_type": "markdown",
   "source": "## Calculate historical baseline and anomalies",
   "id": "f784a126d6af3e3a"
  },
  {
   "metadata": {
    "ExecuteTime": {
     "end_time": "2025-09-28T22:46:24.113923Z",
     "start_time": "2025-09-28T22:46:24.105717Z"
    }
   },
   "cell_type": "code",
   "source": [
    "def calculate_baseline(image_collection):\n",
    "    # Define baseline period (e.g., 2000–2015)\n",
    "    baseline = image_collection.filterDate(\"2000-01-01\", \"2015-12-31\")\n",
    "\n",
    "    # Mean rainfall baseline\n",
    "    baseline_mean = baseline.mean()\n",
    "\n",
    "    # Recent period (e.g., 2020–2025)\n",
    "    recent = image_collection.filterDate(\"2020-01-01\", \"2025-01-01\").mean()\n",
    "\n",
    "    # Rainfall anomaly (recent vs baseline)\n",
    "    anomaly = recent.subtract(baseline_mean).divide(baseline_mean)\n",
    "\n",
    "    return baseline, baseline_mean, anomaly\n",
    "\n",
    "chirps_baseline, chirps_baseline_mean, chirps_anomaly = calculate_baseline(chirps)\n",
    "era5_temp_baseline, era5_temp_baseline_mean, era5_temp_anomaly = calculate_baseline(era5_temp)\n",
    "soil_moist_baseline, soil_moist_baseline_mean, soil_moist_anomaly = calculate_baseline(soil_moist)\n",
    "ndvi_baseline, ndvi_baseline_mean, ndvi_anomaly = calculate_baseline(ndvi)"
   ],
   "id": "7885be1482ce828c",
   "outputs": [
    {
     "data": {
      "text/plain": [
       "<IPython.core.display.HTML object>"
      ],
      "text/html": [
       "\n",
       "            <style>\n",
       "                .geemap-dark {\n",
       "                    --jp-widgets-color: white;\n",
       "                    --jp-widgets-label-color: white;\n",
       "                    --jp-ui-font-color1: white;\n",
       "                    --jp-layout-color2: #454545;\n",
       "                    background-color: #383838;\n",
       "                }\n",
       "\n",
       "                .geemap-dark .jupyter-button {\n",
       "                    --jp-layout-color3: #383838;\n",
       "                }\n",
       "\n",
       "                .geemap-colab {\n",
       "                    background-color: var(--colab-primary-surface-color, white);\n",
       "                }\n",
       "\n",
       "                .geemap-colab .jupyter-button {\n",
       "                    --jp-layout-color3: var(--colab-primary-surface-color, white);\n",
       "                }\n",
       "            </style>\n",
       "            "
      ]
     },
     "metadata": {},
     "output_type": "display_data",
     "jetTransient": {
      "display_id": null
     }
    }
   ],
   "execution_count": 19
  },
  {
   "metadata": {},
   "cell_type": "code",
   "outputs": [],
   "execution_count": null,
   "source": "## Normalize indices (0-1)",
   "id": "8968a657527a2718"
  },
  {
   "cell_type": "markdown",
   "id": "60be5017-3560-4f3e-a139-04b340580348",
   "metadata": {},
   "source": [
    "## Harmonize the datasets"
   ]
  },
  {
   "cell_type": "code",
   "id": "45bbf076-aedd-44f1-9857-5c354733860f",
   "metadata": {
    "ExecuteTime": {
     "end_time": "2025-09-28T16:28:42.733790Z",
     "start_time": "2025-09-28T16:28:42.727476Z"
    }
   },
   "source": "",
   "outputs": [
    {
     "data": {
      "text/plain": [
       "<IPython.core.display.HTML object>"
      ],
      "text/html": [
       "\n",
       "            <style>\n",
       "                .geemap-dark {\n",
       "                    --jp-widgets-color: white;\n",
       "                    --jp-widgets-label-color: white;\n",
       "                    --jp-ui-font-color1: white;\n",
       "                    --jp-layout-color2: #454545;\n",
       "                    background-color: #383838;\n",
       "                }\n",
       "\n",
       "                .geemap-dark .jupyter-button {\n",
       "                    --jp-layout-color3: #383838;\n",
       "                }\n",
       "\n",
       "                .geemap-colab {\n",
       "                    background-color: var(--colab-primary-surface-color, white);\n",
       "                }\n",
       "\n",
       "                .geemap-colab .jupyter-button {\n",
       "                    --jp-layout-color3: var(--colab-primary-surface-color, white);\n",
       "                }\n",
       "            </style>\n",
       "            "
      ]
     },
     "metadata": {},
     "output_type": "display_data",
     "jetTransient": {
      "display_id": null
     }
    }
   ],
   "execution_count": 8
  },
  {
   "cell_type": "markdown",
   "id": "0ebecb34-0ab5-490e-a1d1-4fdec2c1199c",
   "metadata": {},
   "source": [
    "## Compute pixel-level hazard indices"
   ]
  },
  {
   "cell_type": "code",
   "execution_count": 84,
   "id": "a5a4f898-eb9d-4fe0-aa3f-f5b13163bf0e",
   "metadata": {},
   "outputs": [
    {
     "data": {
      "text/html": [
       "\n",
       "            <style>\n",
       "                .geemap-dark {\n",
       "                    --jp-widgets-color: white;\n",
       "                    --jp-widgets-label-color: white;\n",
       "                    --jp-ui-font-color1: white;\n",
       "                    --jp-layout-color2: #454545;\n",
       "                    background-color: #383838;\n",
       "                }\n",
       "\n",
       "                .geemap-dark .jupyter-button {\n",
       "                    --jp-layout-color3: #383838;\n",
       "                }\n",
       "\n",
       "                .geemap-colab {\n",
       "                    background-color: var(--colab-primary-surface-color, white);\n",
       "                }\n",
       "\n",
       "                .geemap-colab .jupyter-button {\n",
       "                    --jp-layout-color3: var(--colab-primary-surface-color, white);\n",
       "                }\n",
       "            </style>\n",
       "            "
      ],
      "text/plain": [
       "<IPython.core.display.HTML object>"
      ]
     },
     "metadata": {},
     "output_type": "display_data"
    }
   ],
   "source": [
    "# Example: Monthly rainfall anomaly\n",
    "monthly_rain = chirps_h\\\n",
    "    .map(lambda img: img.set(\"month\", img.date().get(\"month\")))\n",
    "\n",
    "baseline_mean = monthly_rain.mean()"
   ]
  },
  {
   "cell_type": "code",
   "execution_count": 70,
   "id": "26cd94f2ab8c758a",
   "metadata": {
    "collapsed": true,
    "jupyter": {
     "outputs_hidden": true,
     "source_hidden": true
    }
   },
   "outputs": [
    {
     "data": {
      "text/html": [
       "\n",
       "            <style>\n",
       "                .geemap-dark {\n",
       "                    --jp-widgets-color: white;\n",
       "                    --jp-widgets-label-color: white;\n",
       "                    --jp-ui-font-color1: white;\n",
       "                    --jp-layout-color2: #454545;\n",
       "                    background-color: #383838;\n",
       "                }\n",
       "\n",
       "                .geemap-dark .jupyter-button {\n",
       "                    --jp-layout-color3: #383838;\n",
       "                }\n",
       "\n",
       "                .geemap-colab {\n",
       "                    background-color: var(--colab-primary-surface-color, white);\n",
       "                }\n",
       "\n",
       "                .geemap-colab .jupyter-button {\n",
       "                    --jp-layout-color3: var(--colab-primary-surface-color, white);\n",
       "                }\n",
       "            </style>\n",
       "            "
      ],
      "text/plain": [
       "<IPython.core.display.HTML object>"
      ]
     },
     "metadata": {},
     "output_type": "display_data"
    },
    {
     "data": {
      "application/vnd.jupyter.widget-view+json": {
       "model_id": "bf5a8da3392c4e8ca477e4a0780c5d5d",
       "version_major": 2,
       "version_minor": 0
      },
      "text/plain": [
       "Map(center=[-1.94, 29.87], controls=(WidgetControl(options=['position', 'transparent_bg'], position='topright'…"
      ]
     },
     "execution_count": 70,
     "metadata": {},
     "output_type": "execute_result"
    }
   ],
   "source": [
    "# m = geemap.Map(center=[-1.94, 29.87], zoom=8)\n",
    "#\n",
    "# m.addLayer(aoi, {'color': 'black'}, 'Geometry [black]: Rwanda')\n",
    "#\n",
    "# m.addLayer(annual_rain_aoi, vis_params, 'CHIRPS')\n",
    "# palette = ['red', 'orange', 'yellow', 'green', 'blue', 'darkblue']\n",
    "# vis_params = {\n",
    "#     'min': 0,\n",
    "#     'max': 200000, # Adjust max based on expected precipitation range (in mm)\n",
    "#     'palette': palette\n",
    "# }\n",
    "#\n",
    "# m.add_colorbar(vis_params, label=\"Rainfall (mm)\")\n",
    "#\n",
    "# m"
   ]
  }
 ],
 "metadata": {
  "kernelspec": {
   "display_name": "Python 3 (ipykernel)",
   "language": "python",
   "name": "python3"
  },
  "language_info": {
   "codemirror_mode": {
    "name": "ipython",
    "version": 3
   },
   "file_extension": ".py",
   "mimetype": "text/x-python",
   "name": "python",
   "nbconvert_exporter": "python",
   "pygments_lexer": "ipython3",
   "version": "3.13.2"
  }
 },
 "nbformat": 4,
 "nbformat_minor": 5
}
